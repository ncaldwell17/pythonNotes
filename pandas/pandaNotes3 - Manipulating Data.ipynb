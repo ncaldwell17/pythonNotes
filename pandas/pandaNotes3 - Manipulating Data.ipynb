{
 "cells": [
  {
   "cell_type": "markdown",
   "metadata": {},
   "source": [
    "# Data Manipulation using Pandas\n",
    "DataFrames are *mutable* which means that I can manipulate them. Look at the following for various ways that I can alter the shape and change data in my DataFrame."
   ]
  },
  {
   "cell_type": "code",
   "execution_count": 3,
   "metadata": {},
   "outputs": [],
   "source": [
    "from datetime import datetime\n",
    "import os\n",
    "\n",
    "import numpy as np\n",
    "import pandas as pd"
   ]
  },
  {
   "cell_type": "code",
   "execution_count": 5,
   "metadata": {},
   "outputs": [
    {
     "data": {
      "text/plain": [
       "((475, 7), (999, 4))"
      ]
     },
     "execution_count": 5,
     "metadata": {},
     "output_type": "execute_result"
    }
   ],
   "source": [
    "users = pd.read_csv(os.path.join('data', 'users.csv'), index_col=0)\n",
    "transactions = pd.read_csv(os.path.join('data', 'transactions.csv'), index_col=0)\n",
    "# check if everything worked:\n",
    "(users.shape, transactions.shape)"
   ]
  },
  {
   "cell_type": "markdown",
   "metadata": {},
   "source": [
    "## Exercise One - Assigning Values\n",
    "Chaining values is __not__ the way to go about doing this, instead use the `.loc` property to locate the row and specific column to update.<br>\n",
    "\n",
    "See what I mean by chaining values below:\n",
    "1. First, make sure there's only one entry matching the data I'd like to alter."
   ]
  },
  {
   "cell_type": "code",
   "execution_count": 6,
   "metadata": {},
   "outputs": [
    {
     "data": {
      "text/html": [
       "<div>\n",
       "<style scoped>\n",
       "    .dataframe tbody tr th:only-of-type {\n",
       "        vertical-align: middle;\n",
       "    }\n",
       "\n",
       "    .dataframe tbody tr th {\n",
       "        vertical-align: top;\n",
       "    }\n",
       "\n",
       "    .dataframe thead th {\n",
       "        text-align: right;\n",
       "    }\n",
       "</style>\n",
       "<table border=\"1\" class=\"dataframe\">\n",
       "  <thead>\n",
       "    <tr style=\"text-align: right;\">\n",
       "      <th></th>\n",
       "      <th>first_name</th>\n",
       "      <th>last_name</th>\n",
       "      <th>email</th>\n",
       "      <th>email_verified</th>\n",
       "      <th>signup_date</th>\n",
       "      <th>referral_count</th>\n",
       "      <th>balance</th>\n",
       "    </tr>\n",
       "  </thead>\n",
       "  <tbody>\n",
       "    <tr>\n",
       "      <th>adrian</th>\n",
       "      <td>Adrian</td>\n",
       "      <td>Fang</td>\n",
       "      <td>adrian.fang@teamtreehouse.com</td>\n",
       "      <td>True</td>\n",
       "      <td>4/28/18</td>\n",
       "      <td>3</td>\n",
       "      <td>30.01</td>\n",
       "    </tr>\n",
       "  </tbody>\n",
       "</table>\n",
       "</div>"
      ],
      "text/plain": [
       "       first_name last_name                          email  email_verified  \\\n",
       "adrian     Adrian      Fang  adrian.fang@teamtreehouse.com            True   \n",
       "\n",
       "       signup_date  referral_count  balance  \n",
       "adrian     4/28/18               3    30.01  "
      ]
     },
     "execution_count": 6,
     "metadata": {},
     "output_type": "execute_result"
    }
   ],
   "source": [
    "users[(users.first_name == \"Adrian\") & (users.last_name == \"Fang\")]"
   ]
  },
  {
   "cell_type": "markdown",
   "metadata": {},
   "source": [
    "2. Then, I want to update the balance. The problem scenario I was given was that a 'user' called and said there was an error in his 'balance', it should be '35' but 'is currently '30.01'. \n",
    "Apparently the common thought process is to chain off the returned DataFrame above - but when I try and set it to the new value, I'll get a `SettingWithCopyWarning` that I don't want. "
   ]
  },
  {
   "cell_type": "code",
   "execution_count": 8,
   "metadata": {},
   "outputs": [
    {
     "data": {
      "text/plain": [
       "adrian    30.01\n",
       "Name: balance, dtype: float64"
      ]
     },
     "execution_count": 8,
     "metadata": {},
     "output_type": "execute_result"
    }
   ],
   "source": [
    "users[(users.first_name == \"Adrian\") & (users.last_name == \"Fang\")]['balance']"
   ]
  },
  {
   "cell_type": "code",
   "execution_count": 9,
   "metadata": {},
   "outputs": [
    {
     "name": "stderr",
     "output_type": "stream",
     "text": [
      "/Users/noahcg/anaconda3/envs/default/lib/python3.6/site-packages/ipykernel_launcher.py:1: SettingWithCopyWarning: \n",
      "A value is trying to be set on a copy of a slice from a DataFrame.\n",
      "Try using .loc[row_indexer,col_indexer] = value instead\n",
      "\n",
      "See the caveats in the documentation: http://pandas.pydata.org/pandas-docs/stable/indexing.html#indexing-view-versus-copy\n",
      "  \"\"\"Entry point for launching an IPython kernel.\n"
     ]
    }
   ],
   "source": [
    "users[(users.first_name == \"Adrian\") & (users.last_name == \"Fang\")]['balance'] = 35.00"
   ]
  },
  {
   "cell_type": "markdown",
   "metadata": {},
   "source": [
    "### New Method - Don't Chain and Assign, Instead `.loc` it\n",
    "Below, I locate the specific row and column using `.loc` and update it. "
   ]
  },
  {
   "cell_type": "code",
   "execution_count": 10,
   "metadata": {},
   "outputs": [
    {
     "data": {
      "text/plain": [
       "first_name                               Adrian\n",
       "last_name                                  Fang\n",
       "email             adrian.fang@teamtreehouse.com\n",
       "email_verified                             True\n",
       "signup_date                             4/28/18\n",
       "referral_count                                3\n",
       "balance                                      35\n",
       "Name: adrian, dtype: object"
      ]
     },
     "execution_count": 10,
     "metadata": {},
     "output_type": "execute_result"
    }
   ],
   "source": [
    "users.loc[(users.first_name == \"Adrian\") & (users.last_name == \"Fang\"), 'balance'] = 35.00\n",
    "users.loc['adrian']"
   ]
  },
  {
   "cell_type": "markdown",
   "metadata": {},
   "source": [
    "That was a bit complicated to type out - so instead, I can also use the `.at` method as a shortcut."
   ]
  },
  {
   "cell_type": "code",
   "execution_count": 13,
   "metadata": {},
   "outputs": [
    {
     "data": {
      "text/plain": [
       "first_name                               Adrian\n",
       "last_name                                  Fang\n",
       "email             adrian.fang@teamtreehouse.com\n",
       "email_verified                             True\n",
       "signup_date                             4/28/18\n",
       "referral_count                                3\n",
       "balance                                      45\n",
       "Name: adrian, dtype: object"
      ]
     },
     "execution_count": 13,
     "metadata": {},
     "output_type": "execute_result"
    }
   ],
   "source": [
    "# remember, Pandas and NumPy work by [row index, column name]\n",
    "users.at['adrian', 'balance'] = 45.00\n",
    "users.loc['adrian']"
   ]
  },
  {
   "cell_type": "code",
   "execution_count": 15,
   "metadata": {},
   "outputs": [
    {
     "data": {
      "text/plain": [
       "first_name                               Adrian\n",
       "last_name                                  Fang\n",
       "email             adrian.fang@teamtreehouse.com\n",
       "email_verified                             True\n",
       "signup_date                             4/28/18\n",
       "referral_count                                3\n",
       "balance                                      35\n",
       "Name: adrian, dtype: object"
      ]
     },
     "execution_count": 15,
     "metadata": {},
     "output_type": "execute_result"
    }
   ],
   "source": [
    "users.at['adrian', 'balance'] = 35.00\n",
    "users.loc['adrian']"
   ]
  },
  {
   "cell_type": "markdown",
   "metadata": {},
   "source": [
    "## Exercise Two - Adding Rows\n",
    "In this exercise, I have another .csv file in the directory called transactions.csv that I want to change (based on the scenario that I'm trying to emulate).<br> \n",
    "\n",
    "First, I've opened the csv in pandas above, but I'll do it again here:"
   ]
  },
  {
   "cell_type": "code",
   "execution_count": 53,
   "metadata": {},
   "outputs": [
    {
     "data": {
      "text/html": [
       "<div>\n",
       "<style scoped>\n",
       "    .dataframe tbody tr th:only-of-type {\n",
       "        vertical-align: middle;\n",
       "    }\n",
       "\n",
       "    .dataframe tbody tr th {\n",
       "        vertical-align: top;\n",
       "    }\n",
       "\n",
       "    .dataframe thead th {\n",
       "        text-align: right;\n",
       "    }\n",
       "</style>\n",
       "<table border=\"1\" class=\"dataframe\">\n",
       "  <thead>\n",
       "    <tr style=\"text-align: right;\">\n",
       "      <th></th>\n",
       "      <th>sender</th>\n",
       "      <th>receiver</th>\n",
       "      <th>amount</th>\n",
       "      <th>sent_date</th>\n",
       "    </tr>\n",
       "  </thead>\n",
       "  <tbody>\n",
       "    <tr>\n",
       "      <th>994.0</th>\n",
       "      <td>king3246</td>\n",
       "      <td>john</td>\n",
       "      <td>25.37</td>\n",
       "      <td>9/25/18</td>\n",
       "    </tr>\n",
       "    <tr>\n",
       "      <th>995.0</th>\n",
       "      <td>shernandez</td>\n",
       "      <td>kristen1581</td>\n",
       "      <td>75.77</td>\n",
       "      <td>9/25/18</td>\n",
       "    </tr>\n",
       "    <tr>\n",
       "      <th>996.0</th>\n",
       "      <td>leah6255</td>\n",
       "      <td>jholloway</td>\n",
       "      <td>63.62</td>\n",
       "      <td>9/25/18</td>\n",
       "    </tr>\n",
       "    <tr>\n",
       "      <th>997.0</th>\n",
       "      <td>pamela</td>\n",
       "      <td>michelle4225</td>\n",
       "      <td>2.54</td>\n",
       "      <td>9/25/18</td>\n",
       "    </tr>\n",
       "    <tr>\n",
       "      <th>NaN</th>\n",
       "      <td>NaN</td>\n",
       "      <td>NaN</td>\n",
       "      <td>NaN</td>\n",
       "      <td>NaN</td>\n",
       "    </tr>\n",
       "  </tbody>\n",
       "</table>\n",
       "</div>"
      ],
      "text/plain": [
       "           sender      receiver  amount sent_date\n",
       "994.0    king3246          john   25.37   9/25/18\n",
       "995.0  shernandez   kristen1581   75.77   9/25/18\n",
       "996.0    leah6255     jholloway   63.62   9/25/18\n",
       "997.0      pamela  michelle4225    2.54   9/25/18\n",
       "NaN           NaN           NaN     NaN       NaN"
      ]
     },
     "execution_count": 53,
     "metadata": {},
     "output_type": "execute_result"
    }
   ],
   "source": [
    "# setting the DataFrame I'm creating to a variable\n",
    "transactions = pd.read_csv(os.path.join('data', 'transactions.csv'),\n",
    "                           index_col=0)\n",
    "transactions.tail()"
   ]
  },
  {
   "cell_type": "code",
   "execution_count": 54,
   "metadata": {},
   "outputs": [],
   "source": [
    "# getting rid of the NaN value up here because it interferes below\n",
    "transactions.reset_index(inplace=True)"
   ]
  },
  {
   "cell_type": "code",
   "execution_count": 55,
   "metadata": {},
   "outputs": [
    {
     "data": {
      "text/html": [
       "<div>\n",
       "<style scoped>\n",
       "    .dataframe tbody tr th:only-of-type {\n",
       "        vertical-align: middle;\n",
       "    }\n",
       "\n",
       "    .dataframe tbody tr th {\n",
       "        vertical-align: top;\n",
       "    }\n",
       "\n",
       "    .dataframe thead th {\n",
       "        text-align: right;\n",
       "    }\n",
       "</style>\n",
       "<table border=\"1\" class=\"dataframe\">\n",
       "  <thead>\n",
       "    <tr style=\"text-align: right;\">\n",
       "      <th></th>\n",
       "      <th>index</th>\n",
       "      <th>sender</th>\n",
       "      <th>receiver</th>\n",
       "      <th>amount</th>\n",
       "      <th>sent_date</th>\n",
       "    </tr>\n",
       "  </thead>\n",
       "  <tbody>\n",
       "    <tr>\n",
       "      <th>994</th>\n",
       "      <td>994.0</td>\n",
       "      <td>king3246</td>\n",
       "      <td>john</td>\n",
       "      <td>25.37</td>\n",
       "      <td>9/25/18</td>\n",
       "    </tr>\n",
       "    <tr>\n",
       "      <th>995</th>\n",
       "      <td>995.0</td>\n",
       "      <td>shernandez</td>\n",
       "      <td>kristen1581</td>\n",
       "      <td>75.77</td>\n",
       "      <td>9/25/18</td>\n",
       "    </tr>\n",
       "    <tr>\n",
       "      <th>996</th>\n",
       "      <td>996.0</td>\n",
       "      <td>leah6255</td>\n",
       "      <td>jholloway</td>\n",
       "      <td>63.62</td>\n",
       "      <td>9/25/18</td>\n",
       "    </tr>\n",
       "    <tr>\n",
       "      <th>997</th>\n",
       "      <td>997.0</td>\n",
       "      <td>pamela</td>\n",
       "      <td>michelle4225</td>\n",
       "      <td>2.54</td>\n",
       "      <td>9/25/18</td>\n",
       "    </tr>\n",
       "    <tr>\n",
       "      <th>998</th>\n",
       "      <td>NaN</td>\n",
       "      <td>NaN</td>\n",
       "      <td>NaN</td>\n",
       "      <td>NaN</td>\n",
       "      <td>NaN</td>\n",
       "    </tr>\n",
       "  </tbody>\n",
       "</table>\n",
       "</div>"
      ],
      "text/plain": [
       "     index      sender      receiver  amount sent_date\n",
       "994  994.0    king3246          john   25.37   9/25/18\n",
       "995  995.0  shernandez   kristen1581   75.77   9/25/18\n",
       "996  996.0    leah6255     jholloway   63.62   9/25/18\n",
       "997  997.0      pamela  michelle4225    2.54   9/25/18\n",
       "998    NaN         NaN           NaN     NaN       NaN"
      ]
     },
     "execution_count": 55,
     "metadata": {},
     "output_type": "execute_result"
    }
   ],
   "source": [
    "transactions.tail()"
   ]
  },
  {
   "cell_type": "code",
   "execution_count": 56,
   "metadata": {},
   "outputs": [
    {
     "data": {
      "text/html": [
       "<div>\n",
       "<style scoped>\n",
       "    .dataframe tbody tr th:only-of-type {\n",
       "        vertical-align: middle;\n",
       "    }\n",
       "\n",
       "    .dataframe tbody tr th {\n",
       "        vertical-align: top;\n",
       "    }\n",
       "\n",
       "    .dataframe thead th {\n",
       "        text-align: right;\n",
       "    }\n",
       "</style>\n",
       "<table border=\"1\" class=\"dataframe\">\n",
       "  <thead>\n",
       "    <tr style=\"text-align: right;\">\n",
       "      <th></th>\n",
       "      <th>index</th>\n",
       "      <th>sender</th>\n",
       "      <th>receiver</th>\n",
       "      <th>amount</th>\n",
       "      <th>sent_date</th>\n",
       "    </tr>\n",
       "  </thead>\n",
       "  <tbody>\n",
       "    <tr>\n",
       "      <th>993</th>\n",
       "      <td>993.0</td>\n",
       "      <td>coleman</td>\n",
       "      <td>sarah.evans</td>\n",
       "      <td>36.29</td>\n",
       "      <td>9/25/18</td>\n",
       "    </tr>\n",
       "    <tr>\n",
       "      <th>994</th>\n",
       "      <td>994.0</td>\n",
       "      <td>king3246</td>\n",
       "      <td>john</td>\n",
       "      <td>25.37</td>\n",
       "      <td>9/25/18</td>\n",
       "    </tr>\n",
       "    <tr>\n",
       "      <th>995</th>\n",
       "      <td>995.0</td>\n",
       "      <td>shernandez</td>\n",
       "      <td>kristen1581</td>\n",
       "      <td>75.77</td>\n",
       "      <td>9/25/18</td>\n",
       "    </tr>\n",
       "    <tr>\n",
       "      <th>996</th>\n",
       "      <td>996.0</td>\n",
       "      <td>leah6255</td>\n",
       "      <td>jholloway</td>\n",
       "      <td>63.62</td>\n",
       "      <td>9/25/18</td>\n",
       "    </tr>\n",
       "    <tr>\n",
       "      <th>997</th>\n",
       "      <td>997.0</td>\n",
       "      <td>pamela</td>\n",
       "      <td>michelle4225</td>\n",
       "      <td>2.54</td>\n",
       "      <td>9/25/18</td>\n",
       "    </tr>\n",
       "  </tbody>\n",
       "</table>\n",
       "</div>"
      ],
      "text/plain": [
       "     index      sender      receiver  amount sent_date\n",
       "993  993.0     coleman   sarah.evans   36.29   9/25/18\n",
       "994  994.0    king3246          john   25.37   9/25/18\n",
       "995  995.0  shernandez   kristen1581   75.77   9/25/18\n",
       "996  996.0    leah6255     jholloway   63.62   9/25/18\n",
       "997  997.0      pamela  michelle4225    2.54   9/25/18"
      ]
     },
     "execution_count": 56,
     "metadata": {},
     "output_type": "execute_result"
    }
   ],
   "source": [
    "transactions.drop(index=[998], inplace=True)\n",
    "transactions.tail()"
   ]
  },
  {
   "cell_type": "code",
   "execution_count": 57,
   "metadata": {},
   "outputs": [],
   "source": [
    "# now I want to build a new record:\n",
    "record = dict(sender=np.nan, receiver='adrian', amount='4.99', \n",
    "              sent_date=datetime.now().date())"
   ]
  },
  {
   "cell_type": "markdown",
   "metadata": {},
   "source": [
    "### Appending w/  `Dataframe.append`\n",
    "The `DataFrame.append()` adds a new row to the dataset. This method __doesn't change the original dataset, but returns a copy of the DataFrame with the new row(s) appended__.<br>\n",
    "\n",
    "Something to note - the index for `transactions.csv` is autoassigned, so I need to pass in the `ignore_index=True` to generate it.<br>\n",
    "\n",
    "The `.tail()` method is the opposite of `.head()`, and shows the last five tuples in the DataFrame vs. the first five."
   ]
  },
  {
   "cell_type": "code",
   "execution_count": 58,
   "metadata": {},
   "outputs": [
    {
     "data": {
      "text/html": [
       "<div>\n",
       "<style scoped>\n",
       "    .dataframe tbody tr th:only-of-type {\n",
       "        vertical-align: middle;\n",
       "    }\n",
       "\n",
       "    .dataframe tbody tr th {\n",
       "        vertical-align: top;\n",
       "    }\n",
       "\n",
       "    .dataframe thead th {\n",
       "        text-align: right;\n",
       "    }\n",
       "</style>\n",
       "<table border=\"1\" class=\"dataframe\">\n",
       "  <thead>\n",
       "    <tr style=\"text-align: right;\">\n",
       "      <th></th>\n",
       "      <th>index</th>\n",
       "      <th>sender</th>\n",
       "      <th>receiver</th>\n",
       "      <th>amount</th>\n",
       "      <th>sent_date</th>\n",
       "    </tr>\n",
       "  </thead>\n",
       "  <tbody>\n",
       "    <tr>\n",
       "      <th>994</th>\n",
       "      <td>994.0</td>\n",
       "      <td>king3246</td>\n",
       "      <td>john</td>\n",
       "      <td>25.37</td>\n",
       "      <td>9/25/18</td>\n",
       "    </tr>\n",
       "    <tr>\n",
       "      <th>995</th>\n",
       "      <td>995.0</td>\n",
       "      <td>shernandez</td>\n",
       "      <td>kristen1581</td>\n",
       "      <td>75.77</td>\n",
       "      <td>9/25/18</td>\n",
       "    </tr>\n",
       "    <tr>\n",
       "      <th>996</th>\n",
       "      <td>996.0</td>\n",
       "      <td>leah6255</td>\n",
       "      <td>jholloway</td>\n",
       "      <td>63.62</td>\n",
       "      <td>9/25/18</td>\n",
       "    </tr>\n",
       "    <tr>\n",
       "      <th>997</th>\n",
       "      <td>997.0</td>\n",
       "      <td>pamela</td>\n",
       "      <td>michelle4225</td>\n",
       "      <td>2.54</td>\n",
       "      <td>9/25/18</td>\n",
       "    </tr>\n",
       "    <tr>\n",
       "      <th>998</th>\n",
       "      <td>NaN</td>\n",
       "      <td>NaN</td>\n",
       "      <td>adrian</td>\n",
       "      <td>4.99</td>\n",
       "      <td>2019-05-24</td>\n",
       "    </tr>\n",
       "  </tbody>\n",
       "</table>\n",
       "</div>"
      ],
      "text/plain": [
       "     index      sender      receiver amount   sent_date\n",
       "994  994.0    king3246          john  25.37     9/25/18\n",
       "995  995.0  shernandez   kristen1581  75.77     9/25/18\n",
       "996  996.0    leah6255     jholloway  63.62     9/25/18\n",
       "997  997.0      pamela  michelle4225   2.54     9/25/18\n",
       "998    NaN         NaN        adrian   4.99  2019-05-24"
      ]
     },
     "execution_count": 58,
     "metadata": {},
     "output_type": "execute_result"
    }
   ],
   "source": [
    "transactions.append(record, ignore_index=True).tail()\n",
    "# note that the first time I tried this, I had a typo in 'receiver', so \n",
    "#     it added another column indexed with the typo. "
   ]
  },
  {
   "cell_type": "markdown",
   "metadata": {},
   "source": [
    "If I'm appending multiple rows, it's more effective to use the `pd.concat()` method. See the documentation for how to do that. "
   ]
  },
  {
   "cell_type": "markdown",
   "metadata": {},
   "source": [
    "### Setting w/ Enlargement\n",
    "If I assign to a non-existent index key - the DataFrame will be enlarged automatically. <br>\n",
    "\n",
    "Now, what happens if the index in my .csv isn't autogenerated? There's a popular workaround, which involves using the last used index and incrementing it. "
   ]
  },
  {
   "cell_type": "markdown",
   "metadata": {},
   "source": [
    "## Exercise Three - Adding Columns\n",
    "Adding columns is just like adding rows, and missing values will also be set to NaN."
   ]
  },
  {
   "cell_type": "code",
   "execution_count": 60,
   "metadata": {},
   "outputs": [
    {
     "data": {
      "text/html": [
       "<div>\n",
       "<style scoped>\n",
       "    .dataframe tbody tr th:only-of-type {\n",
       "        vertical-align: middle;\n",
       "    }\n",
       "\n",
       "    .dataframe tbody tr th {\n",
       "        vertical-align: top;\n",
       "    }\n",
       "\n",
       "    .dataframe thead th {\n",
       "        text-align: right;\n",
       "    }\n",
       "</style>\n",
       "<table border=\"1\" class=\"dataframe\">\n",
       "  <thead>\n",
       "    <tr style=\"text-align: right;\">\n",
       "      <th></th>\n",
       "      <th>index</th>\n",
       "      <th>sender</th>\n",
       "      <th>receiver</th>\n",
       "      <th>amount</th>\n",
       "      <th>sent_date</th>\n",
       "      <th>notes</th>\n",
       "    </tr>\n",
       "  </thead>\n",
       "  <tbody>\n",
       "    <tr>\n",
       "      <th>993</th>\n",
       "      <td>993.0</td>\n",
       "      <td>coleman</td>\n",
       "      <td>sarah.evans</td>\n",
       "      <td>36.29</td>\n",
       "      <td>9/25/18</td>\n",
       "      <td>NaN</td>\n",
       "    </tr>\n",
       "    <tr>\n",
       "      <th>994</th>\n",
       "      <td>994.0</td>\n",
       "      <td>king3246</td>\n",
       "      <td>john</td>\n",
       "      <td>25.37</td>\n",
       "      <td>9/25/18</td>\n",
       "      <td>NaN</td>\n",
       "    </tr>\n",
       "    <tr>\n",
       "      <th>995</th>\n",
       "      <td>995.0</td>\n",
       "      <td>shernandez</td>\n",
       "      <td>kristen1581</td>\n",
       "      <td>75.77</td>\n",
       "      <td>9/25/18</td>\n",
       "      <td>NaN</td>\n",
       "    </tr>\n",
       "    <tr>\n",
       "      <th>996</th>\n",
       "      <td>996.0</td>\n",
       "      <td>leah6255</td>\n",
       "      <td>jholloway</td>\n",
       "      <td>63.62</td>\n",
       "      <td>9/25/18</td>\n",
       "      <td>NaN</td>\n",
       "    </tr>\n",
       "    <tr>\n",
       "      <th>997</th>\n",
       "      <td>997.0</td>\n",
       "      <td>pamela</td>\n",
       "      <td>michelle4225</td>\n",
       "      <td>2.54</td>\n",
       "      <td>9/25/18</td>\n",
       "      <td>Adrian called customer support to report a bil...</td>\n",
       "    </tr>\n",
       "  </tbody>\n",
       "</table>\n",
       "</div>"
      ],
      "text/plain": [
       "     index      sender      receiver  amount sent_date  \\\n",
       "993  993.0     coleman   sarah.evans   36.29   9/25/18   \n",
       "994  994.0    king3246          john   25.37   9/25/18   \n",
       "995  995.0  shernandez   kristen1581   75.77   9/25/18   \n",
       "996  996.0    leah6255     jholloway   63.62   9/25/18   \n",
       "997  997.0      pamela  michelle4225    2.54   9/25/18   \n",
       "\n",
       "                                                 notes  \n",
       "993                                                NaN  \n",
       "994                                                NaN  \n",
       "995                                                NaN  \n",
       "996                                                NaN  \n",
       "997  Adrian called customer support to report a bil...  "
      ]
     },
     "execution_count": 60,
     "metadata": {},
     "output_type": "execute_result"
    }
   ],
   "source": [
    "latest_id = transactions.index.max()\n",
    "# add a new column named notes\n",
    "transactions.at[latest_id, 'notes'] = 'Adrian called customer support to report a billing error'\n",
    "transactions.tail()"
   ]
  },
  {
   "cell_type": "markdown",
   "metadata": {},
   "source": [
    "#### NOTE: Deletion and indexing DOES NOT work on NaN indexes - they are an error when saving the .csv file. \n",
    "The following code is a workaround because I couldn't drop the 998th row because it was indexed with a NaN.  "
   ]
  },
  {
   "cell_type": "markdown",
   "metadata": {},
   "source": [
    "So it seems like reset_index, if I put `.tail()` right after it, it'll show me __both the new index AND the old one__, BUT, it'll delete the old one the minute I write up a new function.<br>\n",
    "\n",
    "For some reason, now it's not doing the default values with the `.tail()` anymore and just giving me the whole thing. It also "
   ]
  },
  {
   "cell_type": "code",
   "execution_count": 61,
   "metadata": {},
   "outputs": [
    {
     "data": {
      "text/html": [
       "<div>\n",
       "<style scoped>\n",
       "    .dataframe tbody tr th:only-of-type {\n",
       "        vertical-align: middle;\n",
       "    }\n",
       "\n",
       "    .dataframe tbody tr th {\n",
       "        vertical-align: top;\n",
       "    }\n",
       "\n",
       "    .dataframe thead th {\n",
       "        text-align: right;\n",
       "    }\n",
       "</style>\n",
       "<table border=\"1\" class=\"dataframe\">\n",
       "  <thead>\n",
       "    <tr style=\"text-align: right;\">\n",
       "      <th></th>\n",
       "      <th>index</th>\n",
       "      <th>sender</th>\n",
       "      <th>receiver</th>\n",
       "      <th>amount</th>\n",
       "      <th>sent_date</th>\n",
       "      <th>notes</th>\n",
       "      <th>large</th>\n",
       "    </tr>\n",
       "  </thead>\n",
       "  <tbody>\n",
       "    <tr>\n",
       "      <th>0</th>\n",
       "      <td>0.0</td>\n",
       "      <td>stein</td>\n",
       "      <td>smoyer</td>\n",
       "      <td>49.03</td>\n",
       "      <td>1/24/18</td>\n",
       "      <td>NaN</td>\n",
       "      <td>False</td>\n",
       "    </tr>\n",
       "    <tr>\n",
       "      <th>1</th>\n",
       "      <td>1.0</td>\n",
       "      <td>holden4580</td>\n",
       "      <td>joshua.henry</td>\n",
       "      <td>34.64</td>\n",
       "      <td>2/6/18</td>\n",
       "      <td>NaN</td>\n",
       "      <td>False</td>\n",
       "    </tr>\n",
       "    <tr>\n",
       "      <th>2</th>\n",
       "      <td>2.0</td>\n",
       "      <td>rose.eaton</td>\n",
       "      <td>emily.lewis</td>\n",
       "      <td>62.67</td>\n",
       "      <td>2/15/18</td>\n",
       "      <td>NaN</td>\n",
       "      <td>False</td>\n",
       "    </tr>\n",
       "    <tr>\n",
       "      <th>3</th>\n",
       "      <td>3.0</td>\n",
       "      <td>lmoore</td>\n",
       "      <td>kallen</td>\n",
       "      <td>1.94</td>\n",
       "      <td>3/5/18</td>\n",
       "      <td>NaN</td>\n",
       "      <td>False</td>\n",
       "    </tr>\n",
       "    <tr>\n",
       "      <th>4</th>\n",
       "      <td>4.0</td>\n",
       "      <td>scott3928</td>\n",
       "      <td>lmoore</td>\n",
       "      <td>27.82</td>\n",
       "      <td>3/10/18</td>\n",
       "      <td>NaN</td>\n",
       "      <td>False</td>\n",
       "    </tr>\n",
       "  </tbody>\n",
       "</table>\n",
       "</div>"
      ],
      "text/plain": [
       "   index      sender      receiver  amount sent_date notes  large\n",
       "0    0.0       stein        smoyer   49.03   1/24/18   NaN  False\n",
       "1    1.0  holden4580  joshua.henry   34.64    2/6/18   NaN  False\n",
       "2    2.0  rose.eaton   emily.lewis   62.67   2/15/18   NaN  False\n",
       "3    3.0      lmoore        kallen    1.94    3/5/18   NaN  False\n",
       "4    4.0   scott3928        lmoore   27.82   3/10/18   NaN  False"
      ]
     },
     "execution_count": 61,
     "metadata": {},
     "output_type": "execute_result"
    }
   ],
   "source": [
    "# This adds a new column named large through an expression\n",
    "transactions['large'] = transactions.amount > 70\n",
    "transactions.head() "
   ]
  },
  {
   "cell_type": "markdown",
   "metadata": {},
   "source": [
    "### Renaming Columns\n",
    "Renaming columns can be done through the `DataFrame.rename` method. I specify the current name(s) as key(s) and the new name(s) as the value(s).\n",
    "\n",
    "By default this returns a copy, but I can use the `inplace=True` argument to change the existing dataframe. I haven't proven whether or not inplace actually changes the .csv saved to my computer, but it at least changes the DataFrame I've created in this file. "
   ]
  },
  {
   "cell_type": "code",
   "execution_count": 62,
   "metadata": {},
   "outputs": [
    {
     "data": {
      "text/html": [
       "<div>\n",
       "<style scoped>\n",
       "    .dataframe tbody tr th:only-of-type {\n",
       "        vertical-align: middle;\n",
       "    }\n",
       "\n",
       "    .dataframe tbody tr th {\n",
       "        vertical-align: top;\n",
       "    }\n",
       "\n",
       "    .dataframe thead th {\n",
       "        text-align: right;\n",
       "    }\n",
       "</style>\n",
       "<table border=\"1\" class=\"dataframe\">\n",
       "  <thead>\n",
       "    <tr style=\"text-align: right;\">\n",
       "      <th></th>\n",
       "      <th>index</th>\n",
       "      <th>sender</th>\n",
       "      <th>receiver</th>\n",
       "      <th>amount</th>\n",
       "      <th>sent_date</th>\n",
       "      <th>notes</th>\n",
       "      <th>big_sender</th>\n",
       "    </tr>\n",
       "  </thead>\n",
       "  <tbody>\n",
       "    <tr>\n",
       "      <th>0</th>\n",
       "      <td>0.0</td>\n",
       "      <td>stein</td>\n",
       "      <td>smoyer</td>\n",
       "      <td>49.03</td>\n",
       "      <td>1/24/18</td>\n",
       "      <td>NaN</td>\n",
       "      <td>False</td>\n",
       "    </tr>\n",
       "    <tr>\n",
       "      <th>1</th>\n",
       "      <td>1.0</td>\n",
       "      <td>holden4580</td>\n",
       "      <td>joshua.henry</td>\n",
       "      <td>34.64</td>\n",
       "      <td>2/6/18</td>\n",
       "      <td>NaN</td>\n",
       "      <td>False</td>\n",
       "    </tr>\n",
       "    <tr>\n",
       "      <th>2</th>\n",
       "      <td>2.0</td>\n",
       "      <td>rose.eaton</td>\n",
       "      <td>emily.lewis</td>\n",
       "      <td>62.67</td>\n",
       "      <td>2/15/18</td>\n",
       "      <td>NaN</td>\n",
       "      <td>False</td>\n",
       "    </tr>\n",
       "    <tr>\n",
       "      <th>3</th>\n",
       "      <td>3.0</td>\n",
       "      <td>lmoore</td>\n",
       "      <td>kallen</td>\n",
       "      <td>1.94</td>\n",
       "      <td>3/5/18</td>\n",
       "      <td>NaN</td>\n",
       "      <td>False</td>\n",
       "    </tr>\n",
       "    <tr>\n",
       "      <th>4</th>\n",
       "      <td>4.0</td>\n",
       "      <td>scott3928</td>\n",
       "      <td>lmoore</td>\n",
       "      <td>27.82</td>\n",
       "      <td>3/10/18</td>\n",
       "      <td>NaN</td>\n",
       "      <td>False</td>\n",
       "    </tr>\n",
       "  </tbody>\n",
       "</table>\n",
       "</div>"
      ],
      "text/plain": [
       "   index      sender      receiver  amount sent_date notes  big_sender\n",
       "0    0.0       stein        smoyer   49.03   1/24/18   NaN       False\n",
       "1    1.0  holden4580  joshua.henry   34.64    2/6/18   NaN       False\n",
       "2    2.0  rose.eaton   emily.lewis   62.67   2/15/18   NaN       False\n",
       "3    3.0      lmoore        kallen    1.94    3/5/18   NaN       False\n",
       "4    4.0   scott3928        lmoore   27.82   3/10/18   NaN       False"
      ]
     },
     "execution_count": 62,
     "metadata": {},
     "output_type": "execute_result"
    }
   ],
   "source": [
    "transactions.rename(columns={'large': 'big_sender'}, inplace=True)\n",
    "transactions.head()"
   ]
  },
  {
   "cell_type": "markdown",
   "metadata": {},
   "source": [
    "## Exercise Four - Deletion \n",
    "Just follows the pattern `varName.drop(columns=['colName], axis='columns', inplace=True)`<br>\n",
    "\n",
    "Rows follows the same pattern, but can usually be defined by the index or column name that's at the front indexing it:\n",
    "`varName.drop(index=[#], inplace=True)` <br>\n",
    "\n",
    "I can also do this with a variable's name in the place of a number. "
   ]
  },
  {
   "cell_type": "code",
   "execution_count": 63,
   "metadata": {},
   "outputs": [
    {
     "data": {
      "text/html": [
       "<div>\n",
       "<style scoped>\n",
       "    .dataframe tbody tr th:only-of-type {\n",
       "        vertical-align: middle;\n",
       "    }\n",
       "\n",
       "    .dataframe tbody tr th {\n",
       "        vertical-align: top;\n",
       "    }\n",
       "\n",
       "    .dataframe thead th {\n",
       "        text-align: right;\n",
       "    }\n",
       "</style>\n",
       "<table border=\"1\" class=\"dataframe\">\n",
       "  <thead>\n",
       "    <tr style=\"text-align: right;\">\n",
       "      <th></th>\n",
       "      <th>index</th>\n",
       "      <th>sender</th>\n",
       "      <th>receiver</th>\n",
       "      <th>amount</th>\n",
       "      <th>sent_date</th>\n",
       "      <th>notes</th>\n",
       "    </tr>\n",
       "  </thead>\n",
       "  <tbody>\n",
       "    <tr>\n",
       "      <th>0</th>\n",
       "      <td>0.0</td>\n",
       "      <td>stein</td>\n",
       "      <td>smoyer</td>\n",
       "      <td>49.03</td>\n",
       "      <td>1/24/18</td>\n",
       "      <td>NaN</td>\n",
       "    </tr>\n",
       "    <tr>\n",
       "      <th>1</th>\n",
       "      <td>1.0</td>\n",
       "      <td>holden4580</td>\n",
       "      <td>joshua.henry</td>\n",
       "      <td>34.64</td>\n",
       "      <td>2/6/18</td>\n",
       "      <td>NaN</td>\n",
       "    </tr>\n",
       "    <tr>\n",
       "      <th>2</th>\n",
       "      <td>2.0</td>\n",
       "      <td>rose.eaton</td>\n",
       "      <td>emily.lewis</td>\n",
       "      <td>62.67</td>\n",
       "      <td>2/15/18</td>\n",
       "      <td>NaN</td>\n",
       "    </tr>\n",
       "    <tr>\n",
       "      <th>3</th>\n",
       "      <td>3.0</td>\n",
       "      <td>lmoore</td>\n",
       "      <td>kallen</td>\n",
       "      <td>1.94</td>\n",
       "      <td>3/5/18</td>\n",
       "      <td>NaN</td>\n",
       "    </tr>\n",
       "    <tr>\n",
       "      <th>4</th>\n",
       "      <td>4.0</td>\n",
       "      <td>scott3928</td>\n",
       "      <td>lmoore</td>\n",
       "      <td>27.82</td>\n",
       "      <td>3/10/18</td>\n",
       "      <td>NaN</td>\n",
       "    </tr>\n",
       "  </tbody>\n",
       "</table>\n",
       "</div>"
      ],
      "text/plain": [
       "   index      sender      receiver  amount sent_date notes\n",
       "0    0.0       stein        smoyer   49.03   1/24/18   NaN\n",
       "1    1.0  holden4580  joshua.henry   34.64    2/6/18   NaN\n",
       "2    2.0  rose.eaton   emily.lewis   62.67   2/15/18   NaN\n",
       "3    3.0      lmoore        kallen    1.94    3/5/18   NaN\n",
       "4    4.0   scott3928        lmoore   27.82   3/10/18   NaN"
      ]
     },
     "execution_count": 63,
     "metadata": {},
     "output_type": "execute_result"
    }
   ],
   "source": [
    "transactions.drop(['big_sender'], axis='columns', inplace=True)\n",
    "transactions.head()"
   ]
  },
  {
   "cell_type": "code",
   "execution_count": 64,
   "metadata": {},
   "outputs": [
    {
     "data": {
      "text/html": [
       "<div>\n",
       "<style scoped>\n",
       "    .dataframe tbody tr th:only-of-type {\n",
       "        vertical-align: middle;\n",
       "    }\n",
       "\n",
       "    .dataframe tbody tr th {\n",
       "        vertical-align: top;\n",
       "    }\n",
       "\n",
       "    .dataframe thead th {\n",
       "        text-align: right;\n",
       "    }\n",
       "</style>\n",
       "<table border=\"1\" class=\"dataframe\">\n",
       "  <thead>\n",
       "    <tr style=\"text-align: right;\">\n",
       "      <th></th>\n",
       "      <th>index</th>\n",
       "      <th>sender</th>\n",
       "      <th>receiver</th>\n",
       "      <th>amount</th>\n",
       "      <th>sent_date</th>\n",
       "      <th>notes</th>\n",
       "    </tr>\n",
       "  </thead>\n",
       "  <tbody>\n",
       "    <tr>\n",
       "      <th>992</th>\n",
       "      <td>992.0</td>\n",
       "      <td>pamela</td>\n",
       "      <td>caleb</td>\n",
       "      <td>25.01</td>\n",
       "      <td>9/25/18</td>\n",
       "      <td>NaN</td>\n",
       "    </tr>\n",
       "    <tr>\n",
       "      <th>993</th>\n",
       "      <td>993.0</td>\n",
       "      <td>coleman</td>\n",
       "      <td>sarah.evans</td>\n",
       "      <td>36.29</td>\n",
       "      <td>9/25/18</td>\n",
       "      <td>NaN</td>\n",
       "    </tr>\n",
       "    <tr>\n",
       "      <th>994</th>\n",
       "      <td>994.0</td>\n",
       "      <td>king3246</td>\n",
       "      <td>john</td>\n",
       "      <td>25.37</td>\n",
       "      <td>9/25/18</td>\n",
       "      <td>NaN</td>\n",
       "    </tr>\n",
       "    <tr>\n",
       "      <th>995</th>\n",
       "      <td>995.0</td>\n",
       "      <td>shernandez</td>\n",
       "      <td>kristen1581</td>\n",
       "      <td>75.77</td>\n",
       "      <td>9/25/18</td>\n",
       "      <td>NaN</td>\n",
       "    </tr>\n",
       "    <tr>\n",
       "      <th>996</th>\n",
       "      <td>996.0</td>\n",
       "      <td>leah6255</td>\n",
       "      <td>jholloway</td>\n",
       "      <td>63.62</td>\n",
       "      <td>9/25/18</td>\n",
       "      <td>NaN</td>\n",
       "    </tr>\n",
       "  </tbody>\n",
       "</table>\n",
       "</div>"
      ],
      "text/plain": [
       "     index      sender     receiver  amount sent_date notes\n",
       "992  992.0      pamela        caleb   25.01   9/25/18   NaN\n",
       "993  993.0     coleman  sarah.evans   36.29   9/25/18   NaN\n",
       "994  994.0    king3246         john   25.37   9/25/18   NaN\n",
       "995  995.0  shernandez  kristen1581   75.77   9/25/18   NaN\n",
       "996  996.0    leah6255    jholloway   63.62   9/25/18   NaN"
      ]
     },
     "execution_count": 64,
     "metadata": {},
     "output_type": "execute_result"
    }
   ],
   "source": [
    "last_key = transactions.index.max()\n",
    "transactions.drop(index=[last_key], inplace=True)\n",
    "transactions.tail()"
   ]
  },
  {
   "cell_type": "markdown",
   "metadata": {},
   "source": [
    "### Use Case Exercise"
   ]
  },
  {
   "cell_type": "code",
   "execution_count": 68,
   "metadata": {},
   "outputs": [
    {
     "data": {
      "text/html": [
       "<div>\n",
       "<style scoped>\n",
       "    .dataframe tbody tr th:only-of-type {\n",
       "        vertical-align: middle;\n",
       "    }\n",
       "\n",
       "    .dataframe tbody tr th {\n",
       "        vertical-align: top;\n",
       "    }\n",
       "\n",
       "    .dataframe thead th {\n",
       "        text-align: right;\n",
       "    }\n",
       "</style>\n",
       "<table border=\"1\" class=\"dataframe\">\n",
       "  <thead>\n",
       "    <tr style=\"text-align: right;\">\n",
       "      <th></th>\n",
       "      <th>first_name</th>\n",
       "      <th>last_name</th>\n",
       "      <th>email</th>\n",
       "      <th>email_verified</th>\n",
       "      <th>signup_date</th>\n",
       "      <th>referral_count</th>\n",
       "      <th>balance</th>\n",
       "    </tr>\n",
       "  </thead>\n",
       "  <tbody>\n",
       "    <tr>\n",
       "      <th>kimberly</th>\n",
       "      <td>Kimberly</td>\n",
       "      <td>NaN</td>\n",
       "      <td>kimberly@yahoo.com</td>\n",
       "      <td>False</td>\n",
       "      <td>1/6/18</td>\n",
       "      <td>5</td>\n",
       "      <td>54.73</td>\n",
       "    </tr>\n",
       "  </tbody>\n",
       "</table>\n",
       "</div>"
      ],
      "text/plain": [
       "         first_name last_name               email  email_verified signup_date  \\\n",
       "kimberly   Kimberly       NaN  kimberly@yahoo.com           False      1/6/18   \n",
       "\n",
       "          referral_count  balance  \n",
       "kimberly               5    54.73  "
      ]
     },
     "execution_count": 68,
     "metadata": {},
     "output_type": "execute_result"
    }
   ],
   "source": [
    "# She exists!\n",
    "# users[(users.email == \"kimberly@yahoo.com\")]\n",
    "# but how many Kimberly's are there?\n",
    "users[(users.index == \"kimberly\")]\n",
    "# answer: only one"
   ]
  },
  {
   "cell_type": "code",
   "execution_count": 69,
   "metadata": {},
   "outputs": [
    {
     "data": {
      "text/html": [
       "<div>\n",
       "<style scoped>\n",
       "    .dataframe tbody tr th:only-of-type {\n",
       "        vertical-align: middle;\n",
       "    }\n",
       "\n",
       "    .dataframe tbody tr th {\n",
       "        vertical-align: top;\n",
       "    }\n",
       "\n",
       "    .dataframe thead th {\n",
       "        text-align: right;\n",
       "    }\n",
       "</style>\n",
       "<table border=\"1\" class=\"dataframe\">\n",
       "  <thead>\n",
       "    <tr style=\"text-align: right;\">\n",
       "      <th></th>\n",
       "      <th>first_name</th>\n",
       "      <th>last_name</th>\n",
       "      <th>email</th>\n",
       "      <th>email_verified</th>\n",
       "      <th>signup_date</th>\n",
       "      <th>referral_count</th>\n",
       "      <th>balance</th>\n",
       "    </tr>\n",
       "  </thead>\n",
       "  <tbody>\n",
       "    <tr>\n",
       "      <th>kimberly</th>\n",
       "      <td>Kimberly</td>\n",
       "      <td>Deal</td>\n",
       "      <td>kimberly@yahoo.com</td>\n",
       "      <td>False</td>\n",
       "      <td>1/6/18</td>\n",
       "      <td>5</td>\n",
       "      <td>54.73</td>\n",
       "    </tr>\n",
       "  </tbody>\n",
       "</table>\n",
       "</div>"
      ],
      "text/plain": [
       "         first_name last_name               email  email_verified signup_date  \\\n",
       "kimberly   Kimberly      Deal  kimberly@yahoo.com           False      1/6/18   \n",
       "\n",
       "          referral_count  balance  \n",
       "kimberly               5    54.73  "
      ]
     },
     "execution_count": 69,
     "metadata": {},
     "output_type": "execute_result"
    }
   ],
   "source": [
    "users.at['kimberly', 'last_name'] = \"Deal\"\n",
    "users[(users.index == \"kimberly\")]"
   ]
  },
  {
   "cell_type": "code",
   "execution_count": 70,
   "metadata": {},
   "outputs": [
    {
     "data": {
      "text/html": [
       "<div>\n",
       "<style scoped>\n",
       "    .dataframe tbody tr th:only-of-type {\n",
       "        vertical-align: middle;\n",
       "    }\n",
       "\n",
       "    .dataframe tbody tr th {\n",
       "        vertical-align: top;\n",
       "    }\n",
       "\n",
       "    .dataframe thead th {\n",
       "        text-align: right;\n",
       "    }\n",
       "</style>\n",
       "<table border=\"1\" class=\"dataframe\">\n",
       "  <thead>\n",
       "    <tr style=\"text-align: right;\">\n",
       "      <th></th>\n",
       "      <th>first_name</th>\n",
       "      <th>last_name</th>\n",
       "      <th>email</th>\n",
       "      <th>email_verified</th>\n",
       "      <th>signup_date</th>\n",
       "      <th>referral_count</th>\n",
       "      <th>balance</th>\n",
       "    </tr>\n",
       "  </thead>\n",
       "  <tbody>\n",
       "    <tr>\n",
       "      <th>jeffrey</th>\n",
       "      <td>Jeffrey</td>\n",
       "      <td>Stewart</td>\n",
       "      <td>stewart7222@hotmail.com</td>\n",
       "      <td>True</td>\n",
       "      <td>1/2/18</td>\n",
       "      <td>0</td>\n",
       "      <td>40.58</td>\n",
       "    </tr>\n",
       "  </tbody>\n",
       "</table>\n",
       "</div>"
      ],
      "text/plain": [
       "        first_name last_name                    email  email_verified  \\\n",
       "jeffrey    Jeffrey   Stewart  stewart7222@hotmail.com            True   \n",
       "\n",
       "        signup_date  referral_count  balance  \n",
       "jeffrey      1/2/18               0    40.58  "
      ]
     },
     "execution_count": 70,
     "metadata": {},
     "output_type": "execute_result"
    }
   ],
   "source": [
    "users[(users.index == \"jeffrey\")]"
   ]
  },
  {
   "cell_type": "code",
   "execution_count": 84,
   "metadata": {},
   "outputs": [
    {
     "ename": "TypeError",
     "evalue": "descriptor 'date' requires a 'datetime.datetime' object but received a 'int'",
     "output_type": "error",
     "traceback": [
      "\u001b[0;31m---------------------------------------------------------------------------\u001b[0m",
      "\u001b[0;31mTypeError\u001b[0m                                 Traceback (most recent call last)",
      "\u001b[0;32m<ipython-input-84-9f647bb004b0>\u001b[0m in \u001b[0;36m<module>\u001b[0;34m\u001b[0m\n\u001b[1;32m      3\u001b[0m \u001b[0musers\u001b[0m\u001b[0;34m.\u001b[0m\u001b[0mat\u001b[0m\u001b[0;34m[\u001b[0m\u001b[0;34m'jefrey'\u001b[0m\u001b[0;34m,\u001b[0m \u001b[0;34m'email'\u001b[0m\u001b[0;34m]\u001b[0m \u001b[0;34m=\u001b[0m \u001b[0;34m\"stewart7222@hotmail.com\"\u001b[0m\u001b[0;34m\u001b[0m\u001b[0;34m\u001b[0m\u001b[0m\n\u001b[1;32m      4\u001b[0m \u001b[0musers\u001b[0m\u001b[0;34m.\u001b[0m\u001b[0mat\u001b[0m\u001b[0;34m[\u001b[0m\u001b[0;34m'jefrey'\u001b[0m\u001b[0;34m,\u001b[0m \u001b[0;34m'email_verified'\u001b[0m\u001b[0;34m]\u001b[0m \u001b[0;34m=\u001b[0m \u001b[0;32mTrue\u001b[0m\u001b[0;34m\u001b[0m\u001b[0;34m\u001b[0m\u001b[0m\n\u001b[0;32m----> 5\u001b[0;31m \u001b[0musers\u001b[0m\u001b[0;34m.\u001b[0m\u001b[0mat\u001b[0m\u001b[0;34m[\u001b[0m\u001b[0;34m'jefrey'\u001b[0m\u001b[0;34m,\u001b[0m \u001b[0;34m'signup_date'\u001b[0m\u001b[0;34m]\u001b[0m \u001b[0;34m=\u001b[0m \u001b[0mdatetime\u001b[0m\u001b[0;34m.\u001b[0m\u001b[0mdate\u001b[0m\u001b[0;34m(\u001b[0m\u001b[0;36m1\u001b[0m\u001b[0;34m,\u001b[0m \u001b[0;36m2\u001b[0m\u001b[0;34m,\u001b[0m\u001b[0;36m18\u001b[0m\u001b[0;34m)\u001b[0m\u001b[0;34m\u001b[0m\u001b[0;34m\u001b[0m\u001b[0m\n\u001b[0m\u001b[1;32m      6\u001b[0m \u001b[0musers\u001b[0m\u001b[0;34m[\u001b[0m\u001b[0;34m(\u001b[0m\u001b[0musers\u001b[0m\u001b[0;34m.\u001b[0m\u001b[0mindex\u001b[0m \u001b[0;34m==\u001b[0m \u001b[0;34m\"jefrey\"\u001b[0m\u001b[0;34m)\u001b[0m\u001b[0;34m]\u001b[0m\u001b[0;34m\u001b[0m\u001b[0;34m\u001b[0m\u001b[0m\n",
      "\u001b[0;31mTypeError\u001b[0m: descriptor 'date' requires a 'datetime.datetime' object but received a 'int'"
     ]
    }
   ],
   "source": [
    "users.at['jefrey', 'first_name'] = \"Jefrey\"\n",
    "users.at['jefrey', 'last_name'] = \"Stewart\"\n",
    "users.at['jefrey', 'email'] = \"stewart7222@hotmail.com\"\n",
    "users.at['jefrey', 'email_verified'] = True\n",
    "users.at['jefrey', 'signup_date'] = datetime.date(1, 2, 18)\n",
    "users[(users.index == \"jefrey\")]"
   ]
  },
  {
   "cell_type": "code",
   "execution_count": null,
   "metadata": {},
   "outputs": [],
   "source": []
  }
 ],
 "metadata": {
  "kernelspec": {
   "display_name": "default",
   "language": "python",
   "name": "default"
  },
  "language_info": {
   "codemirror_mode": {
    "name": "ipython",
    "version": 3
   },
   "file_extension": ".py",
   "mimetype": "text/x-python",
   "name": "python",
   "nbconvert_exporter": "python",
   "pygments_lexer": "ipython3",
   "version": "3.6.8"
  }
 },
 "nbformat": 4,
 "nbformat_minor": 2
}
