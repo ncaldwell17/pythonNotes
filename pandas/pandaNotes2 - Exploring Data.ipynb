{
 "cells": [
  {
   "cell_type": "markdown",
   "metadata": {},
   "source": [
    "# Working with External Data\n",
    "\n",
    "CSV, or Comma Separate Values, is the most common way of sharing external datasets. "
   ]
  },
  {
   "cell_type": "code",
   "execution_count": 2,
   "metadata": {},
   "outputs": [],
   "source": [
    "import os # Using os.path.join b/c Windows uses a \\ to separate directories\n",
    "import pandas as pd"
   ]
  },
  {
   "cell_type": "code",
   "execution_count": 3,
   "metadata": {},
   "outputs": [
    {
     "data": {
      "text/plain": [
       "'data/users.csv'"
      ]
     },
     "execution_count": 3,
     "metadata": {},
     "output_type": "execute_result"
    }
   ],
   "source": [
    "users_file_name = os.path.join('data', 'users.csv')\n",
    "users_file_name"
   ]
  },
  {
   "cell_type": "code",
   "execution_count": 5,
   "metadata": {},
   "outputs": [
    {
     "name": "stdout",
     "output_type": "stream",
     "text": [
      "﻿,first_name,last_name,email,email_verified,signup_date,referral_count,balance\n",
      "\n",
      "aaron,Aaron,Davis,aaron6348@gmail.com,TRUE,8/31/18,6,18.14\n",
      "\n",
      "acook,Anthony,Cook,cook@gmail.com,TRUE,5/12/18,2,55.45\n",
      "\n",
      "adam.saunders,Adam,Saunders,adam@gmail.com,FALSE,5/29/18,3,72.12\n",
      "\n",
      "adrian,Adrian,Fang,adrian.fang@teamtreehouse.com,TRUE,4/28/18,3,30.01\n",
      "\n"
     ]
    }
   ],
   "source": [
    "# Opens the file and prints out the first 5 lines\n",
    "with open(users_file_name) as lines:\n",
    "    for _ in range(5):\n",
    "        # The `file` object is an iterator, so just get the next line\n",
    "        print(next(lines))"
   ]
  },
  {
   "cell_type": "markdown",
   "metadata": {},
   "source": [
    "## Exercise One - Creation\n",
    "Notice that the first line is a header row - this is something I ignored in the first round of working with the Invs. Institute's data that Subrat fixed when he replicated my dataFrame in Pandas.<br>\n",
    "\n",
    "By default, it'll be assumed that the first row is my header row. To create a new DataFrame to explore the data - i.e., replicating my data in an excel-like environment, I need to use the `pandas.read_csv()` function, along with the `index_col=` argument. "
   ]
  },
  {
   "cell_type": "code",
   "execution_count": 8,
   "metadata": {},
   "outputs": [],
   "source": [
    "# Creates a new DataFrame and sets the index to the first column.\n",
    "users = pd.read_csv(users_file_name, index_col=0)"
   ]
  },
  {
   "cell_type": "markdown",
   "metadata": {},
   "source": [
    "To explore the dataFrame, I can use the `DataFrame.head()` method that gives me the first `x` number of rows. By default, the head method returns 5 records. I can specify the number I want as the first argument, like so: `variable_DataFrame_name.head(10)`"
   ]
  },
  {
   "cell_type": "code",
   "execution_count": 9,
   "metadata": {},
   "outputs": [
    {
     "data": {
      "text/html": [
       "<div>\n",
       "<style scoped>\n",
       "    .dataframe tbody tr th:only-of-type {\n",
       "        vertical-align: middle;\n",
       "    }\n",
       "\n",
       "    .dataframe tbody tr th {\n",
       "        vertical-align: top;\n",
       "    }\n",
       "\n",
       "    .dataframe thead th {\n",
       "        text-align: right;\n",
       "    }\n",
       "</style>\n",
       "<table border=\"1\" class=\"dataframe\">\n",
       "  <thead>\n",
       "    <tr style=\"text-align: right;\">\n",
       "      <th></th>\n",
       "      <th>first_name</th>\n",
       "      <th>last_name</th>\n",
       "      <th>email</th>\n",
       "      <th>email_verified</th>\n",
       "      <th>signup_date</th>\n",
       "      <th>referral_count</th>\n",
       "      <th>balance</th>\n",
       "    </tr>\n",
       "  </thead>\n",
       "  <tbody>\n",
       "    <tr>\n",
       "      <th>aaron</th>\n",
       "      <td>Aaron</td>\n",
       "      <td>Davis</td>\n",
       "      <td>aaron6348@gmail.com</td>\n",
       "      <td>True</td>\n",
       "      <td>8/31/18</td>\n",
       "      <td>6</td>\n",
       "      <td>18.14</td>\n",
       "    </tr>\n",
       "    <tr>\n",
       "      <th>acook</th>\n",
       "      <td>Anthony</td>\n",
       "      <td>Cook</td>\n",
       "      <td>cook@gmail.com</td>\n",
       "      <td>True</td>\n",
       "      <td>5/12/18</td>\n",
       "      <td>2</td>\n",
       "      <td>55.45</td>\n",
       "    </tr>\n",
       "    <tr>\n",
       "      <th>adam.saunders</th>\n",
       "      <td>Adam</td>\n",
       "      <td>Saunders</td>\n",
       "      <td>adam@gmail.com</td>\n",
       "      <td>False</td>\n",
       "      <td>5/29/18</td>\n",
       "      <td>3</td>\n",
       "      <td>72.12</td>\n",
       "    </tr>\n",
       "    <tr>\n",
       "      <th>adrian</th>\n",
       "      <td>Adrian</td>\n",
       "      <td>Fang</td>\n",
       "      <td>adrian.fang@teamtreehouse.com</td>\n",
       "      <td>True</td>\n",
       "      <td>4/28/18</td>\n",
       "      <td>3</td>\n",
       "      <td>30.01</td>\n",
       "    </tr>\n",
       "    <tr>\n",
       "      <th>adrian.blair</th>\n",
       "      <td>Adrian</td>\n",
       "      <td>Blair</td>\n",
       "      <td>adrian9335@gmail.com</td>\n",
       "      <td>True</td>\n",
       "      <td>6/16/18</td>\n",
       "      <td>7</td>\n",
       "      <td>25.85</td>\n",
       "    </tr>\n",
       "  </tbody>\n",
       "</table>\n",
       "</div>"
      ],
      "text/plain": [
       "              first_name last_name                          email  \\\n",
       "aaron              Aaron     Davis            aaron6348@gmail.com   \n",
       "acook            Anthony      Cook                 cook@gmail.com   \n",
       "adam.saunders       Adam  Saunders                 adam@gmail.com   \n",
       "adrian            Adrian      Fang  adrian.fang@teamtreehouse.com   \n",
       "adrian.blair      Adrian     Blair           adrian9335@gmail.com   \n",
       "\n",
       "               email_verified signup_date  referral_count  balance  \n",
       "aaron                    True     8/31/18               6    18.14  \n",
       "acook                    True     5/12/18               2    55.45  \n",
       "adam.saunders           False     5/29/18               3    72.12  \n",
       "adrian                   True     4/28/18               3    30.01  \n",
       "adrian.blair             True     6/16/18               7    25.85  "
      ]
     },
     "execution_count": 9,
     "metadata": {},
     "output_type": "execute_result"
    }
   ],
   "source": [
    "users.head()"
   ]
  },
  {
   "cell_type": "markdown",
   "metadata": {},
   "source": [
    "## Exercise Two - Exploration \n",
    "To explore data, I can start with three types of information: 1) shape information, 2) data information, and 3) sorting.<br>\n",
    "\n",
    "Always __remember__: I use the `variable_name.(Optional Method Here(Its Parameters)).head()` function to __see__ the data itself __after__ I've done something to it. "
   ]
  },
  {
   "cell_type": "markdown",
   "metadata": {},
   "source": [
    "### Shape Information \n",
    "* `variable_name.shape` property\n",
    "* `variable_name.count()` method (good way to find missing data) \n",
    "    * Missing data will show up as np.Nan\n",
    "    * Missing data __will not be counted\n",
    "* `variable_name.dtypes` property \n",
    "    * strings show up as 'object'\n",
    "    * bool shows up as 'bool'\n",
    "    * integers show up as 'float64, int64, or the like' "
   ]
  },
  {
   "cell_type": "code",
   "execution_count": 19,
   "metadata": {},
   "outputs": [
    {
     "data": {
      "text/plain": [
       "(475, 7)"
      ]
     },
     "execution_count": 19,
     "metadata": {},
     "output_type": "execute_result"
    }
   ],
   "source": [
    "users.shape"
   ]
  },
  {
   "cell_type": "code",
   "execution_count": 20,
   "metadata": {},
   "outputs": [
    {
     "data": {
      "text/plain": [
       "first_name        475\n",
       "last_name         430\n",
       "email             475\n",
       "email_verified    475\n",
       "signup_date       475\n",
       "referral_count    475\n",
       "balance           475\n",
       "dtype: int64"
      ]
     },
     "execution_count": 20,
     "metadata": {},
     "output_type": "execute_result"
    }
   ],
   "source": [
    "users.count()"
   ]
  },
  {
   "cell_type": "code",
   "execution_count": 21,
   "metadata": {},
   "outputs": [
    {
     "data": {
      "text/plain": [
       "first_name         object\n",
       "last_name          object\n",
       "email              object\n",
       "email_verified       bool\n",
       "signup_date        object\n",
       "referral_count      int64\n",
       "balance           float64\n",
       "dtype: object"
      ]
     },
     "execution_count": 21,
     "metadata": {},
     "output_type": "execute_result"
    }
   ],
   "source": [
    "users.dtypes"
   ]
  },
  {
   "cell_type": "markdown",
   "metadata": {},
   "source": [
    "### Data Information\n",
    "The `DataFrame_varName.describe()` method is a way to get a sense of all the numeric data in the DataFrame.<br>\n",
    "\n",
    "I can also use the `varName.mean()` method to aggregate all the variables and find the mean of a certain column. I don't __need__ to specify the column name either. TEST: Try seeing if I can pass in the name of a column as an argument. RESULT: Nope, but I can add it as a specifier after the variable name like so: `varName.specificer.mean()`. \n",
    "* I can also find the standard deviation of a column using `varName.std()`\n",
    "* Find the minimum and max using `varName.max()` or `varName.min()`\n",
    "\n",
    "__NOTE:__ By default, the value counts are sorted in descending order - so the most frequent are at the top. Therefore, I can use `varName.specifier.value_counts().head()` to find the five most common values in the specifier column. "
   ]
  },
  {
   "cell_type": "code",
   "execution_count": 22,
   "metadata": {},
   "outputs": [
    {
     "data": {
      "text/html": [
       "<div>\n",
       "<style scoped>\n",
       "    .dataframe tbody tr th:only-of-type {\n",
       "        vertical-align: middle;\n",
       "    }\n",
       "\n",
       "    .dataframe tbody tr th {\n",
       "        vertical-align: top;\n",
       "    }\n",
       "\n",
       "    .dataframe thead th {\n",
       "        text-align: right;\n",
       "    }\n",
       "</style>\n",
       "<table border=\"1\" class=\"dataframe\">\n",
       "  <thead>\n",
       "    <tr style=\"text-align: right;\">\n",
       "      <th></th>\n",
       "      <th>referral_count</th>\n",
       "      <th>balance</th>\n",
       "    </tr>\n",
       "  </thead>\n",
       "  <tbody>\n",
       "    <tr>\n",
       "      <th>count</th>\n",
       "      <td>475.000000</td>\n",
       "      <td>475.000000</td>\n",
       "    </tr>\n",
       "    <tr>\n",
       "      <th>mean</th>\n",
       "      <td>3.429474</td>\n",
       "      <td>49.933263</td>\n",
       "    </tr>\n",
       "    <tr>\n",
       "      <th>std</th>\n",
       "      <td>2.281085</td>\n",
       "      <td>28.280448</td>\n",
       "    </tr>\n",
       "    <tr>\n",
       "      <th>min</th>\n",
       "      <td>0.000000</td>\n",
       "      <td>0.050000</td>\n",
       "    </tr>\n",
       "    <tr>\n",
       "      <th>25%</th>\n",
       "      <td>2.000000</td>\n",
       "      <td>25.305000</td>\n",
       "    </tr>\n",
       "    <tr>\n",
       "      <th>50%</th>\n",
       "      <td>3.000000</td>\n",
       "      <td>51.570000</td>\n",
       "    </tr>\n",
       "    <tr>\n",
       "      <th>75%</th>\n",
       "      <td>5.000000</td>\n",
       "      <td>74.480000</td>\n",
       "    </tr>\n",
       "    <tr>\n",
       "      <th>max</th>\n",
       "      <td>7.000000</td>\n",
       "      <td>99.900000</td>\n",
       "    </tr>\n",
       "  </tbody>\n",
       "</table>\n",
       "</div>"
      ],
      "text/plain": [
       "       referral_count     balance\n",
       "count      475.000000  475.000000\n",
       "mean         3.429474   49.933263\n",
       "std          2.281085   28.280448\n",
       "min          0.000000    0.050000\n",
       "25%          2.000000   25.305000\n",
       "50%          3.000000   51.570000\n",
       "75%          5.000000   74.480000\n",
       "max          7.000000   99.900000"
      ]
     },
     "execution_count": 22,
     "metadata": {},
     "output_type": "execute_result"
    }
   ],
   "source": [
    "users.describe()"
   ]
  },
  {
   "cell_type": "code",
   "execution_count": 23,
   "metadata": {},
   "outputs": [
    {
     "data": {
      "text/plain": [
       "email_verified     0.818947\n",
       "referral_count     3.429474\n",
       "balance           49.933263\n",
       "dtype: float64"
      ]
     },
     "execution_count": 23,
     "metadata": {},
     "output_type": "execute_result"
    }
   ],
   "source": [
    "users.mean()"
   ]
  },
  {
   "cell_type": "code",
   "execution_count": 25,
   "metadata": {},
   "outputs": [
    {
     "data": {
      "text/plain": [
       "0.8189473684210526"
      ]
     },
     "execution_count": 25,
     "metadata": {},
     "output_type": "execute_result"
    }
   ],
   "source": [
    "# Test to see if I can find a single column's mean\n",
    "users.email_verified.mean()"
   ]
  },
  {
   "cell_type": "code",
   "execution_count": 26,
   "metadata": {},
   "outputs": [
    {
     "data": {
      "text/plain": [
       "email_verified     0.385468\n",
       "referral_count     2.281085\n",
       "balance           28.280448\n",
       "dtype: float64"
      ]
     },
     "execution_count": 26,
     "metadata": {},
     "output_type": "execute_result"
    }
   ],
   "source": [
    "users.std()"
   ]
  },
  {
   "cell_type": "code",
   "execution_count": 27,
   "metadata": {},
   "outputs": [
    {
     "data": {
      "text/plain": [
       "first_name                Zachary\n",
       "email             zneal@gmail.com\n",
       "email_verified               True\n",
       "signup_date                9/9/18\n",
       "referral_count                  7\n",
       "balance                      99.9\n",
       "dtype: object"
      ]
     },
     "execution_count": 27,
     "metadata": {},
     "output_type": "execute_result"
    }
   ],
   "source": [
    "users.max()"
   ]
  },
  {
   "cell_type": "code",
   "execution_count": 28,
   "metadata": {},
   "outputs": [
    {
     "data": {
      "text/plain": [
       "first_name                       Aaron\n",
       "email             aalvarez@hotmail.com\n",
       "email_verified                   False\n",
       "signup_date                     1/1/18\n",
       "referral_count                       0\n",
       "balance                           0.05\n",
       "dtype: object"
      ]
     },
     "execution_count": 28,
     "metadata": {},
     "output_type": "execute_result"
    }
   ],
   "source": [
    "users.min()"
   ]
  },
  {
   "cell_type": "code",
   "execution_count": 29,
   "metadata": {},
   "outputs": [
    {
     "data": {
      "text/plain": [
       "True     389\n",
       "False     86\n",
       "Name: email_verified, dtype: int64"
      ]
     },
     "execution_count": 29,
     "metadata": {},
     "output_type": "execute_result"
    }
   ],
   "source": [
    "users.email_verified.value_counts()"
   ]
  },
  {
   "cell_type": "code",
   "execution_count": 30,
   "metadata": {},
   "outputs": [
    {
     "data": {
      "text/plain": [
       "Mark           11\n",
       "David          10\n",
       "Michael         9\n",
       "Christopher     7\n",
       "William         7\n",
       "Name: first_name, dtype: int64"
      ]
     },
     "execution_count": 30,
     "metadata": {},
     "output_type": "execute_result"
    }
   ],
   "source": [
    "users.first_name.value_counts().head()"
   ]
  },
  {
   "cell_type": "markdown",
   "metadata": {},
   "source": [
    "### Sorting Information\n",
    "This is done through the `.sort_values()` method, which changes based on what parameters I pass into it. I cover the parameters in the next couple of sections.\n",
    "\n",
    "* Sort by Index (DEFAULT)\n",
    "* Sort by Values (actually __creates a whole new DataFrame__ temporarily) \n",
    "\n",
    "Because of this quirk - that it creates a new DataFrame (think of a new DataFrame like a new excel document) - if I want to __permanently replace__ the sort from the default, I pass the following argument to the `variable_name.sort_values()` function: `, inplace=True`"
   ]
  },
  {
   "cell_type": "markdown",
   "metadata": {},
   "source": [
    "#### Parameters\n",
    "List:\n",
    "* `by='column_name'` = selects the column that you'd like to sort. All the other columns will follow along. \n",
    "* `ascending=False` = sorts the highest (if integers) balance at the top. TEST: What happens if the column contains strings, and not integers? Will it still work? RESULT: YES! It sorts reverse alphabetically - so Z's will appear at the top. \n",
    "\n",
    "__NOTE:__ It seems like the DEFAULT for .sort_values() sorts things in descending order. Passing in ascending just reverses this trend. "
   ]
  },
  {
   "cell_type": "code",
   "execution_count": 10,
   "metadata": {},
   "outputs": [
    {
     "data": {
      "text/html": [
       "<div>\n",
       "<style scoped>\n",
       "    .dataframe tbody tr th:only-of-type {\n",
       "        vertical-align: middle;\n",
       "    }\n",
       "\n",
       "    .dataframe tbody tr th {\n",
       "        vertical-align: top;\n",
       "    }\n",
       "\n",
       "    .dataframe thead th {\n",
       "        text-align: right;\n",
       "    }\n",
       "</style>\n",
       "<table border=\"1\" class=\"dataframe\">\n",
       "  <thead>\n",
       "    <tr style=\"text-align: right;\">\n",
       "      <th></th>\n",
       "      <th>first_name</th>\n",
       "      <th>last_name</th>\n",
       "      <th>email</th>\n",
       "      <th>email_verified</th>\n",
       "      <th>signup_date</th>\n",
       "      <th>referral_count</th>\n",
       "      <th>balance</th>\n",
       "    </tr>\n",
       "  </thead>\n",
       "  <tbody>\n",
       "    <tr>\n",
       "      <th>twhite</th>\n",
       "      <td>Timothy</td>\n",
       "      <td>White</td>\n",
       "      <td>white5136@hotmail.com</td>\n",
       "      <td>True</td>\n",
       "      <td>7/6/18</td>\n",
       "      <td>5</td>\n",
       "      <td>99.90</td>\n",
       "    </tr>\n",
       "    <tr>\n",
       "      <th>karen.snow</th>\n",
       "      <td>Karen</td>\n",
       "      <td>Snow</td>\n",
       "      <td>ksnow@yahoo.com</td>\n",
       "      <td>True</td>\n",
       "      <td>5/6/18</td>\n",
       "      <td>2</td>\n",
       "      <td>99.38</td>\n",
       "    </tr>\n",
       "    <tr>\n",
       "      <th>king</th>\n",
       "      <td>Billy</td>\n",
       "      <td>King</td>\n",
       "      <td>billy.king@hotmail.com</td>\n",
       "      <td>True</td>\n",
       "      <td>5/29/18</td>\n",
       "      <td>4</td>\n",
       "      <td>98.80</td>\n",
       "    </tr>\n",
       "    <tr>\n",
       "      <th>king3246</th>\n",
       "      <td>Brittney</td>\n",
       "      <td>King</td>\n",
       "      <td>brittney@yahoo.com</td>\n",
       "      <td>True</td>\n",
       "      <td>4/15/18</td>\n",
       "      <td>6</td>\n",
       "      <td>98.79</td>\n",
       "    </tr>\n",
       "    <tr>\n",
       "      <th>crane203</th>\n",
       "      <td>Valerie</td>\n",
       "      <td>Crane</td>\n",
       "      <td>valerie7051@hotmail.com</td>\n",
       "      <td>True</td>\n",
       "      <td>5/12/18</td>\n",
       "      <td>3</td>\n",
       "      <td>98.69</td>\n",
       "    </tr>\n",
       "  </tbody>\n",
       "</table>\n",
       "</div>"
      ],
      "text/plain": [
       "           first_name last_name                    email  email_verified  \\\n",
       "twhite        Timothy     White    white5136@hotmail.com            True   \n",
       "karen.snow      Karen      Snow          ksnow@yahoo.com            True   \n",
       "king            Billy      King   billy.king@hotmail.com            True   \n",
       "king3246     Brittney      King       brittney@yahoo.com            True   \n",
       "crane203      Valerie     Crane  valerie7051@hotmail.com            True   \n",
       "\n",
       "           signup_date  referral_count  balance  \n",
       "twhite          7/6/18               5    99.90  \n",
       "karen.snow      5/6/18               2    99.38  \n",
       "king           5/29/18               4    98.80  \n",
       "king3246       4/15/18               6    98.79  \n",
       "crane203       5/12/18               3    98.69  "
      ]
     },
     "execution_count": 10,
     "metadata": {},
     "output_type": "execute_result"
    }
   ],
   "source": [
    "users.sort_values(by='balance', ascending=False).head()"
   ]
  },
  {
   "cell_type": "code",
   "execution_count": 11,
   "metadata": {},
   "outputs": [
    {
     "data": {
      "text/html": [
       "<div>\n",
       "<style scoped>\n",
       "    .dataframe tbody tr th:only-of-type {\n",
       "        vertical-align: middle;\n",
       "    }\n",
       "\n",
       "    .dataframe tbody tr th {\n",
       "        vertical-align: top;\n",
       "    }\n",
       "\n",
       "    .dataframe thead th {\n",
       "        text-align: right;\n",
       "    }\n",
       "</style>\n",
       "<table border=\"1\" class=\"dataframe\">\n",
       "  <thead>\n",
       "    <tr style=\"text-align: right;\">\n",
       "      <th></th>\n",
       "      <th>first_name</th>\n",
       "      <th>last_name</th>\n",
       "      <th>email</th>\n",
       "      <th>email_verified</th>\n",
       "      <th>signup_date</th>\n",
       "      <th>referral_count</th>\n",
       "      <th>balance</th>\n",
       "    </tr>\n",
       "  </thead>\n",
       "  <tbody>\n",
       "    <tr>\n",
       "      <th>aaron</th>\n",
       "      <td>Aaron</td>\n",
       "      <td>Davis</td>\n",
       "      <td>aaron6348@gmail.com</td>\n",
       "      <td>True</td>\n",
       "      <td>8/31/18</td>\n",
       "      <td>6</td>\n",
       "      <td>18.14</td>\n",
       "    </tr>\n",
       "    <tr>\n",
       "      <th>acook</th>\n",
       "      <td>Anthony</td>\n",
       "      <td>Cook</td>\n",
       "      <td>cook@gmail.com</td>\n",
       "      <td>True</td>\n",
       "      <td>5/12/18</td>\n",
       "      <td>2</td>\n",
       "      <td>55.45</td>\n",
       "    </tr>\n",
       "    <tr>\n",
       "      <th>adam.saunders</th>\n",
       "      <td>Adam</td>\n",
       "      <td>Saunders</td>\n",
       "      <td>adam@gmail.com</td>\n",
       "      <td>False</td>\n",
       "      <td>5/29/18</td>\n",
       "      <td>3</td>\n",
       "      <td>72.12</td>\n",
       "    </tr>\n",
       "    <tr>\n",
       "      <th>adrian</th>\n",
       "      <td>Adrian</td>\n",
       "      <td>Fang</td>\n",
       "      <td>adrian.fang@teamtreehouse.com</td>\n",
       "      <td>True</td>\n",
       "      <td>4/28/18</td>\n",
       "      <td>3</td>\n",
       "      <td>30.01</td>\n",
       "    </tr>\n",
       "    <tr>\n",
       "      <th>adrian.blair</th>\n",
       "      <td>Adrian</td>\n",
       "      <td>Blair</td>\n",
       "      <td>adrian9335@gmail.com</td>\n",
       "      <td>True</td>\n",
       "      <td>6/16/18</td>\n",
       "      <td>7</td>\n",
       "      <td>25.85</td>\n",
       "    </tr>\n",
       "  </tbody>\n",
       "</table>\n",
       "</div>"
      ],
      "text/plain": [
       "              first_name last_name                          email  \\\n",
       "aaron              Aaron     Davis            aaron6348@gmail.com   \n",
       "acook            Anthony      Cook                 cook@gmail.com   \n",
       "adam.saunders       Adam  Saunders                 adam@gmail.com   \n",
       "adrian            Adrian      Fang  adrian.fang@teamtreehouse.com   \n",
       "adrian.blair      Adrian     Blair           adrian9335@gmail.com   \n",
       "\n",
       "               email_verified signup_date  referral_count  balance  \n",
       "aaron                    True     8/31/18               6    18.14  \n",
       "acook                    True     5/12/18               2    55.45  \n",
       "adam.saunders           False     5/29/18               3    72.12  \n",
       "adrian                   True     4/28/18               3    30.01  \n",
       "adrian.blair             True     6/16/18               7    25.85  "
      ]
     },
     "execution_count": 11,
     "metadata": {},
     "output_type": "execute_result"
    }
   ],
   "source": [
    "# Control\n",
    "users.head()"
   ]
  },
  {
   "cell_type": "code",
   "execution_count": 14,
   "metadata": {},
   "outputs": [
    {
     "data": {
      "text/html": [
       "<div>\n",
       "<style scoped>\n",
       "    .dataframe tbody tr th:only-of-type {\n",
       "        vertical-align: middle;\n",
       "    }\n",
       "\n",
       "    .dataframe tbody tr th {\n",
       "        vertical-align: top;\n",
       "    }\n",
       "\n",
       "    .dataframe thead th {\n",
       "        text-align: right;\n",
       "    }\n",
       "</style>\n",
       "<table border=\"1\" class=\"dataframe\">\n",
       "  <thead>\n",
       "    <tr style=\"text-align: right;\">\n",
       "      <th></th>\n",
       "      <th>first_name</th>\n",
       "      <th>last_name</th>\n",
       "      <th>email</th>\n",
       "      <th>email_verified</th>\n",
       "      <th>signup_date</th>\n",
       "      <th>referral_count</th>\n",
       "      <th>balance</th>\n",
       "    </tr>\n",
       "  </thead>\n",
       "  <tbody>\n",
       "    <tr>\n",
       "      <th>zachary.neal</th>\n",
       "      <td>Zachary</td>\n",
       "      <td>Neal</td>\n",
       "      <td>zneal@gmail.com</td>\n",
       "      <td>True</td>\n",
       "      <td>7/26/18</td>\n",
       "      <td>1</td>\n",
       "      <td>39.90</td>\n",
       "    </tr>\n",
       "    <tr>\n",
       "      <th>moore</th>\n",
       "      <td>Yvonne</td>\n",
       "      <td>Moore</td>\n",
       "      <td>yvonne5907@gmail.com</td>\n",
       "      <td>True</td>\n",
       "      <td>7/10/18</td>\n",
       "      <td>5</td>\n",
       "      <td>52.46</td>\n",
       "    </tr>\n",
       "    <tr>\n",
       "      <th>harold</th>\n",
       "      <td>Harold</td>\n",
       "      <td>Willis</td>\n",
       "      <td>willis9328@yahoo.com</td>\n",
       "      <td>False</td>\n",
       "      <td>5/7/18</td>\n",
       "      <td>1</td>\n",
       "      <td>6.00</td>\n",
       "    </tr>\n",
       "    <tr>\n",
       "      <th>nancy</th>\n",
       "      <td>Nancy</td>\n",
       "      <td>Williams</td>\n",
       "      <td>williams8331@gmail.com</td>\n",
       "      <td>True</td>\n",
       "      <td>5/14/18</td>\n",
       "      <td>4</td>\n",
       "      <td>41.15</td>\n",
       "    </tr>\n",
       "    <tr>\n",
       "      <th>daniel.williams</th>\n",
       "      <td>Daniel</td>\n",
       "      <td>Williams</td>\n",
       "      <td>williams6378@yahoo.com</td>\n",
       "      <td>True</td>\n",
       "      <td>3/13/18</td>\n",
       "      <td>4</td>\n",
       "      <td>93.85</td>\n",
       "    </tr>\n",
       "  </tbody>\n",
       "</table>\n",
       "</div>"
      ],
      "text/plain": [
       "                first_name last_name                   email  email_verified  \\\n",
       "zachary.neal       Zachary      Neal         zneal@gmail.com            True   \n",
       "moore               Yvonne     Moore    yvonne5907@gmail.com            True   \n",
       "harold              Harold    Willis    willis9328@yahoo.com           False   \n",
       "nancy                Nancy  Williams  williams8331@gmail.com            True   \n",
       "daniel.williams     Daniel  Williams  williams6378@yahoo.com            True   \n",
       "\n",
       "                signup_date  referral_count  balance  \n",
       "zachary.neal        7/26/18               1    39.90  \n",
       "moore               7/10/18               5    52.46  \n",
       "harold               5/7/18               1     6.00  \n",
       "nancy               5/14/18               4    41.15  \n",
       "daniel.williams     3/13/18               4    93.85  "
      ]
     },
     "execution_count": 14,
     "metadata": {},
     "output_type": "execute_result"
    }
   ],
   "source": [
    "# Test to see if .sort_values() works on strings\n",
    "users.sort_values(by='email', ascending=False).head()"
   ]
  },
  {
   "cell_type": "code",
   "execution_count": 15,
   "metadata": {},
   "outputs": [
    {
     "data": {
      "text/html": [
       "<div>\n",
       "<style scoped>\n",
       "    .dataframe tbody tr th:only-of-type {\n",
       "        vertical-align: middle;\n",
       "    }\n",
       "\n",
       "    .dataframe tbody tr th {\n",
       "        vertical-align: top;\n",
       "    }\n",
       "\n",
       "    .dataframe thead th {\n",
       "        text-align: right;\n",
       "    }\n",
       "</style>\n",
       "<table border=\"1\" class=\"dataframe\">\n",
       "  <thead>\n",
       "    <tr style=\"text-align: right;\">\n",
       "      <th></th>\n",
       "      <th>first_name</th>\n",
       "      <th>last_name</th>\n",
       "      <th>email</th>\n",
       "      <th>email_verified</th>\n",
       "      <th>signup_date</th>\n",
       "      <th>referral_count</th>\n",
       "      <th>balance</th>\n",
       "    </tr>\n",
       "  </thead>\n",
       "  <tbody>\n",
       "    <tr>\n",
       "      <th>aaron</th>\n",
       "      <td>Aaron</td>\n",
       "      <td>Davis</td>\n",
       "      <td>aaron6348@gmail.com</td>\n",
       "      <td>True</td>\n",
       "      <td>8/31/18</td>\n",
       "      <td>6</td>\n",
       "      <td>18.14</td>\n",
       "    </tr>\n",
       "    <tr>\n",
       "      <th>mays</th>\n",
       "      <td>Jacob</td>\n",
       "      <td>Mays</td>\n",
       "      <td>jmays@yahoo.com</td>\n",
       "      <td>True</td>\n",
       "      <td>3/1/18</td>\n",
       "      <td>4</td>\n",
       "      <td>83.85</td>\n",
       "    </tr>\n",
       "    <tr>\n",
       "      <th>matthew5486</th>\n",
       "      <td>Matthew</td>\n",
       "      <td>Weeks</td>\n",
       "      <td>matthew@hotmail.com</td>\n",
       "      <td>True</td>\n",
       "      <td>4/23/18</td>\n",
       "      <td>5</td>\n",
       "      <td>35.25</td>\n",
       "    </tr>\n",
       "    <tr>\n",
       "      <th>massey2102</th>\n",
       "      <td>Philip</td>\n",
       "      <td>Massey</td>\n",
       "      <td>philip@gmail.com</td>\n",
       "      <td>True</td>\n",
       "      <td>4/28/18</td>\n",
       "      <td>4</td>\n",
       "      <td>25.04</td>\n",
       "    </tr>\n",
       "    <tr>\n",
       "      <th>martin</th>\n",
       "      <td>Caroline</td>\n",
       "      <td>Martin</td>\n",
       "      <td>caroline@hotmail.com</td>\n",
       "      <td>True</td>\n",
       "      <td>8/30/18</td>\n",
       "      <td>3</td>\n",
       "      <td>16.55</td>\n",
       "    </tr>\n",
       "  </tbody>\n",
       "</table>\n",
       "</div>"
      ],
      "text/plain": [
       "            first_name last_name                 email  email_verified  \\\n",
       "aaron            Aaron     Davis   aaron6348@gmail.com            True   \n",
       "mays             Jacob      Mays       jmays@yahoo.com            True   \n",
       "matthew5486    Matthew     Weeks   matthew@hotmail.com            True   \n",
       "massey2102      Philip    Massey      philip@gmail.com            True   \n",
       "martin        Caroline    Martin  caroline@hotmail.com            True   \n",
       "\n",
       "            signup_date  referral_count  balance  \n",
       "aaron           8/31/18               6    18.14  \n",
       "mays             3/1/18               4    83.85  \n",
       "matthew5486     4/23/18               5    35.25  \n",
       "massey2102      4/28/18               4    25.04  \n",
       "martin          8/30/18               3    16.55  "
      ]
     },
     "execution_count": 15,
     "metadata": {},
     "output_type": "execute_result"
    }
   ],
   "source": [
    "# Test to see if .sort_values() works on booleans\n",
    "users.sort_values(by='email_verified', ascending=False).head()"
   ]
  },
  {
   "cell_type": "code",
   "execution_count": 32,
   "metadata": {},
   "outputs": [
    {
     "data": {
      "text/html": [
       "<div>\n",
       "<style scoped>\n",
       "    .dataframe tbody tr th:only-of-type {\n",
       "        vertical-align: middle;\n",
       "    }\n",
       "\n",
       "    .dataframe tbody tr th {\n",
       "        vertical-align: top;\n",
       "    }\n",
       "\n",
       "    .dataframe thead th {\n",
       "        text-align: right;\n",
       "    }\n",
       "</style>\n",
       "<table border=\"1\" class=\"dataframe\">\n",
       "  <thead>\n",
       "    <tr style=\"text-align: right;\">\n",
       "      <th></th>\n",
       "      <th>first_name</th>\n",
       "      <th>last_name</th>\n",
       "      <th>email</th>\n",
       "      <th>email_verified</th>\n",
       "      <th>signup_date</th>\n",
       "      <th>referral_count</th>\n",
       "      <th>balance</th>\n",
       "    </tr>\n",
       "  </thead>\n",
       "  <tbody>\n",
       "    <tr>\n",
       "      <th>darlene.adams</th>\n",
       "      <td>Darlene</td>\n",
       "      <td>Adams</td>\n",
       "      <td>adams@hotmail.com</td>\n",
       "      <td>True</td>\n",
       "      <td>9/15/18</td>\n",
       "      <td>2</td>\n",
       "      <td>67.02</td>\n",
       "    </tr>\n",
       "    <tr>\n",
       "      <th>lauren</th>\n",
       "      <td>Lauren</td>\n",
       "      <td>Aguilar</td>\n",
       "      <td>lauren.aguilar@summers.com</td>\n",
       "      <td>False</td>\n",
       "      <td>5/31/18</td>\n",
       "      <td>4</td>\n",
       "      <td>69.90</td>\n",
       "    </tr>\n",
       "    <tr>\n",
       "      <th>daniel</th>\n",
       "      <td>Daniel</td>\n",
       "      <td>Allen</td>\n",
       "      <td>allen@hotmail.com</td>\n",
       "      <td>False</td>\n",
       "      <td>7/1/18</td>\n",
       "      <td>2</td>\n",
       "      <td>21.21</td>\n",
       "    </tr>\n",
       "    <tr>\n",
       "      <th>kallen</th>\n",
       "      <td>Kathy</td>\n",
       "      <td>Allen</td>\n",
       "      <td>kathy@hotmail.com</td>\n",
       "      <td>False</td>\n",
       "      <td>2/20/18</td>\n",
       "      <td>1</td>\n",
       "      <td>43.72</td>\n",
       "    </tr>\n",
       "    <tr>\n",
       "      <th>alvarado</th>\n",
       "      <td>Denise</td>\n",
       "      <td>Alvarado</td>\n",
       "      <td>alvarado@hotmail.com</td>\n",
       "      <td>True</td>\n",
       "      <td>9/7/18</td>\n",
       "      <td>6</td>\n",
       "      <td>26.72</td>\n",
       "    </tr>\n",
       "  </tbody>\n",
       "</table>\n",
       "</div>"
      ],
      "text/plain": [
       "              first_name last_name                       email  \\\n",
       "darlene.adams    Darlene     Adams           adams@hotmail.com   \n",
       "lauren            Lauren   Aguilar  lauren.aguilar@summers.com   \n",
       "daniel            Daniel     Allen           allen@hotmail.com   \n",
       "kallen             Kathy     Allen           kathy@hotmail.com   \n",
       "alvarado          Denise  Alvarado        alvarado@hotmail.com   \n",
       "\n",
       "               email_verified signup_date  referral_count  balance  \n",
       "darlene.adams            True     9/15/18               2    67.02  \n",
       "lauren                  False     5/31/18               4    69.90  \n",
       "daniel                  False      7/1/18               2    21.21  \n",
       "kallen                  False     2/20/18               1    43.72  \n",
       "alvarado                 True      9/7/18               6    26.72  "
      ]
     },
     "execution_count": 32,
     "metadata": {},
     "output_type": "execute_result"
    }
   ],
   "source": [
    "# This command sorts first by last name, then by first name\n",
    "users.sort_values(by=['last_name', 'first_name']).head()"
   ]
  },
  {
   "cell_type": "markdown",
   "metadata": {},
   "source": [
    "If I ever permanently change the DataFrame (i.e. save the new Excel sheet), I can switch it back to the original by entering in `variable_name.sort_index(inplace=True)`, and like always, I can add the `.head()` to view it. "
   ]
  },
  {
   "cell_type": "markdown",
   "metadata": {},
   "source": [
    "## Exercise Three - Selecting Data\n",
    "The point of doing this is to select data __that meets a certain criteria__. This will use the `.loc` property. `.loc` accesses a group of rows and columns by their labels or a boolean array.<br>\n",
    "\n",
    "Allowed inputs are:\n",
    "* A single label - e.g. '5' or 'a'\n",
    "* A list or array of labels in the form: ['a','b','c']\n",
    "* A slice object with labels in the form: ['a':'f'] __NOTE: This is both inclusive and exclusive__, so a and f are __both__ included. \n",
    "* A callable function with one argument\n",
    "\n",
    "A big part of manipulating data this way is that you can store a certain configuration in a variable and then manipulate that variable. I.e., creating a __new DataFrame__ and then returning the row as a series. See the documentation for more examples - it's a bit of an abstraction. "
   ]
  },
  {
   "cell_type": "code",
   "execution_count": 33,
   "metadata": {},
   "outputs": [
    {
     "data": {
      "text/plain": [
       "aaron            False\n",
       "acook            False\n",
       "adam.saunders    False\n",
       "adrian           False\n",
       "adrian.blair     False\n",
       "Name: referral_count, dtype: bool"
      ]
     },
     "execution_count": 33,
     "metadata": {},
     "output_type": "execute_result"
    }
   ],
   "source": [
    "# I want to return a new Seriees that I can manipulate later\n",
    "# Putting it in a variable lets me do this. \n",
    "no_referrals_index = users['referral_count'] < 1\n",
    "# The boolean 'Series' return includes all rows from the dataFrame.\n",
    "# The value is the result of each comparison\n",
    "# As a result, the variable's contents will be the result of a bool function\n",
    "no_referrals_index.head()"
   ]
  },
  {
   "cell_type": "code",
   "execution_count": 34,
   "metadata": {},
   "outputs": [
    {
     "data": {
      "text/html": [
       "<div>\n",
       "<style scoped>\n",
       "    .dataframe tbody tr th:only-of-type {\n",
       "        vertical-align: middle;\n",
       "    }\n",
       "\n",
       "    .dataframe tbody tr th {\n",
       "        vertical-align: top;\n",
       "    }\n",
       "\n",
       "    .dataframe thead th {\n",
       "        text-align: right;\n",
       "    }\n",
       "</style>\n",
       "<table border=\"1\" class=\"dataframe\">\n",
       "  <thead>\n",
       "    <tr style=\"text-align: right;\">\n",
       "      <th></th>\n",
       "      <th>first_name</th>\n",
       "      <th>last_name</th>\n",
       "      <th>email</th>\n",
       "      <th>email_verified</th>\n",
       "      <th>signup_date</th>\n",
       "      <th>referral_count</th>\n",
       "      <th>balance</th>\n",
       "    </tr>\n",
       "  </thead>\n",
       "  <tbody>\n",
       "    <tr>\n",
       "      <th>alan9443</th>\n",
       "      <td>Alan</td>\n",
       "      <td>Pope</td>\n",
       "      <td>pope@hotmail.com</td>\n",
       "      <td>True</td>\n",
       "      <td>4/17/18</td>\n",
       "      <td>0</td>\n",
       "      <td>56.09</td>\n",
       "    </tr>\n",
       "    <tr>\n",
       "      <th>andrew.alvarez</th>\n",
       "      <td>Andrew</td>\n",
       "      <td>Alvarez</td>\n",
       "      <td>aalvarez@hotmail.com</td>\n",
       "      <td>False</td>\n",
       "      <td>8/1/18</td>\n",
       "      <td>0</td>\n",
       "      <td>81.66</td>\n",
       "    </tr>\n",
       "    <tr>\n",
       "      <th>boyer7005</th>\n",
       "      <td>Sara</td>\n",
       "      <td>Boyer</td>\n",
       "      <td>boyer8636@gmail.com</td>\n",
       "      <td>True</td>\n",
       "      <td>7/31/18</td>\n",
       "      <td>0</td>\n",
       "      <td>91.41</td>\n",
       "    </tr>\n",
       "    <tr>\n",
       "      <th>brandon.gilbert</th>\n",
       "      <td>Brandon</td>\n",
       "      <td>Gilbert</td>\n",
       "      <td>brandon.gilbert@hotmail.com</td>\n",
       "      <td>True</td>\n",
       "      <td>4/28/18</td>\n",
       "      <td>0</td>\n",
       "      <td>10.17</td>\n",
       "    </tr>\n",
       "    <tr>\n",
       "      <th>brooke2027</th>\n",
       "      <td>Brooke</td>\n",
       "      <td>NaN</td>\n",
       "      <td>brooke6938@gmail.com</td>\n",
       "      <td>False</td>\n",
       "      <td>5/23/18</td>\n",
       "      <td>0</td>\n",
       "      <td>7.22</td>\n",
       "    </tr>\n",
       "  </tbody>\n",
       "</table>\n",
       "</div>"
      ],
      "text/plain": [
       "                first_name last_name                        email  \\\n",
       "alan9443              Alan      Pope             pope@hotmail.com   \n",
       "andrew.alvarez      Andrew   Alvarez         aalvarez@hotmail.com   \n",
       "boyer7005             Sara     Boyer          boyer8636@gmail.com   \n",
       "brandon.gilbert    Brandon   Gilbert  brandon.gilbert@hotmail.com   \n",
       "brooke2027          Brooke       NaN         brooke6938@gmail.com   \n",
       "\n",
       "                 email_verified signup_date  referral_count  balance  \n",
       "alan9443                   True     4/17/18               0    56.09  \n",
       "andrew.alvarez            False      8/1/18               0    81.66  \n",
       "boyer7005                  True     7/31/18               0    91.41  \n",
       "brandon.gilbert            True     4/28/18               0    10.17  \n",
       "brooke2027                False     5/23/18               0     7.22  "
      ]
     },
     "execution_count": 34,
     "metadata": {},
     "output_type": "execute_result"
    }
   ],
   "source": [
    "# Now, if I want to retrieve all the rows where the comparison was true\n",
    "#    all I have to do is use my newly created variable as my index :) \n",
    "users[no_referrals_index].head()"
   ]
  },
  {
   "cell_type": "markdown",
   "metadata": {},
   "source": [
    "### Inverse Indexing\n",
    "A shortcut to inverse an index is to preface it with a `~` beforehand. "
   ]
  },
  {
   "cell_type": "code",
   "execution_count": 35,
   "metadata": {},
   "outputs": [
    {
     "data": {
      "text/plain": [
       "aaron            True\n",
       "acook            True\n",
       "adam.saunders    True\n",
       "adrian           True\n",
       "adrian.blair     True\n",
       "Name: referral_count, dtype: bool"
      ]
     },
     "execution_count": 35,
     "metadata": {},
     "output_type": "execute_result"
    }
   ],
   "source": [
    "~no_referrals_index.head()"
   ]
  },
  {
   "cell_type": "code",
   "execution_count": 36,
   "metadata": {},
   "outputs": [
    {
     "data": {
      "text/html": [
       "<div>\n",
       "<style scoped>\n",
       "    .dataframe tbody tr th:only-of-type {\n",
       "        vertical-align: middle;\n",
       "    }\n",
       "\n",
       "    .dataframe tbody tr th {\n",
       "        vertical-align: top;\n",
       "    }\n",
       "\n",
       "    .dataframe thead th {\n",
       "        text-align: right;\n",
       "    }\n",
       "</style>\n",
       "<table border=\"1\" class=\"dataframe\">\n",
       "  <thead>\n",
       "    <tr style=\"text-align: right;\">\n",
       "      <th></th>\n",
       "      <th>first_name</th>\n",
       "      <th>last_name</th>\n",
       "      <th>email</th>\n",
       "      <th>email_verified</th>\n",
       "      <th>signup_date</th>\n",
       "      <th>referral_count</th>\n",
       "      <th>balance</th>\n",
       "    </tr>\n",
       "  </thead>\n",
       "  <tbody>\n",
       "    <tr>\n",
       "      <th>aaron</th>\n",
       "      <td>Aaron</td>\n",
       "      <td>Davis</td>\n",
       "      <td>aaron6348@gmail.com</td>\n",
       "      <td>True</td>\n",
       "      <td>8/31/18</td>\n",
       "      <td>6</td>\n",
       "      <td>18.14</td>\n",
       "    </tr>\n",
       "    <tr>\n",
       "      <th>acook</th>\n",
       "      <td>Anthony</td>\n",
       "      <td>Cook</td>\n",
       "      <td>cook@gmail.com</td>\n",
       "      <td>True</td>\n",
       "      <td>5/12/18</td>\n",
       "      <td>2</td>\n",
       "      <td>55.45</td>\n",
       "    </tr>\n",
       "    <tr>\n",
       "      <th>adam.saunders</th>\n",
       "      <td>Adam</td>\n",
       "      <td>Saunders</td>\n",
       "      <td>adam@gmail.com</td>\n",
       "      <td>False</td>\n",
       "      <td>5/29/18</td>\n",
       "      <td>3</td>\n",
       "      <td>72.12</td>\n",
       "    </tr>\n",
       "    <tr>\n",
       "      <th>adrian</th>\n",
       "      <td>Adrian</td>\n",
       "      <td>Fang</td>\n",
       "      <td>adrian.fang@teamtreehouse.com</td>\n",
       "      <td>True</td>\n",
       "      <td>4/28/18</td>\n",
       "      <td>3</td>\n",
       "      <td>30.01</td>\n",
       "    </tr>\n",
       "    <tr>\n",
       "      <th>adrian.blair</th>\n",
       "      <td>Adrian</td>\n",
       "      <td>Blair</td>\n",
       "      <td>adrian9335@gmail.com</td>\n",
       "      <td>True</td>\n",
       "      <td>6/16/18</td>\n",
       "      <td>7</td>\n",
       "      <td>25.85</td>\n",
       "    </tr>\n",
       "  </tbody>\n",
       "</table>\n",
       "</div>"
      ],
      "text/plain": [
       "              first_name last_name                          email  \\\n",
       "aaron              Aaron     Davis            aaron6348@gmail.com   \n",
       "acook            Anthony      Cook                 cook@gmail.com   \n",
       "adam.saunders       Adam  Saunders                 adam@gmail.com   \n",
       "adrian            Adrian      Fang  adrian.fang@teamtreehouse.com   \n",
       "adrian.blair      Adrian     Blair           adrian9335@gmail.com   \n",
       "\n",
       "               email_verified signup_date  referral_count  balance  \n",
       "aaron                    True     8/31/18               6    18.14  \n",
       "acook                    True     5/12/18               2    55.45  \n",
       "adam.saunders           False     5/29/18               3    72.12  \n",
       "adrian                   True     4/28/18               3    30.01  \n",
       "adrian.blair             True     6/16/18               7    25.85  "
      ]
     },
     "execution_count": 36,
     "metadata": {},
     "output_type": "execute_result"
    }
   ],
   "source": [
    "# Now I can use the shortcut to find where referral values DO NOT = 0\n",
    "users[~no_referrals_index].head()"
   ]
  },
  {
   "cell_type": "markdown",
   "metadata": {},
   "source": [
    "### .loc Indexing\n",
    "Basically, `.loc` property allows me to select exact values out of the DataFrame/excel sheet I've created. "
   ]
  },
  {
   "cell_type": "code",
   "execution_count": 37,
   "metadata": {},
   "outputs": [
    {
     "data": {
      "text/html": [
       "<div>\n",
       "<style scoped>\n",
       "    .dataframe tbody tr th:only-of-type {\n",
       "        vertical-align: middle;\n",
       "    }\n",
       "\n",
       "    .dataframe tbody tr th {\n",
       "        vertical-align: top;\n",
       "    }\n",
       "\n",
       "    .dataframe thead th {\n",
       "        text-align: right;\n",
       "    }\n",
       "</style>\n",
       "<table border=\"1\" class=\"dataframe\">\n",
       "  <thead>\n",
       "    <tr style=\"text-align: right;\">\n",
       "      <th></th>\n",
       "      <th>balance</th>\n",
       "      <th>email</th>\n",
       "    </tr>\n",
       "  </thead>\n",
       "  <tbody>\n",
       "    <tr>\n",
       "      <th>alan9443</th>\n",
       "      <td>56.09</td>\n",
       "      <td>pope@hotmail.com</td>\n",
       "    </tr>\n",
       "    <tr>\n",
       "      <th>andrew.alvarez</th>\n",
       "      <td>81.66</td>\n",
       "      <td>aalvarez@hotmail.com</td>\n",
       "    </tr>\n",
       "    <tr>\n",
       "      <th>boyer7005</th>\n",
       "      <td>91.41</td>\n",
       "      <td>boyer8636@gmail.com</td>\n",
       "    </tr>\n",
       "    <tr>\n",
       "      <th>brandon.gilbert</th>\n",
       "      <td>10.17</td>\n",
       "      <td>brandon.gilbert@hotmail.com</td>\n",
       "    </tr>\n",
       "    <tr>\n",
       "      <th>brooke2027</th>\n",
       "      <td>7.22</td>\n",
       "      <td>brooke6938@gmail.com</td>\n",
       "    </tr>\n",
       "  </tbody>\n",
       "</table>\n",
       "</div>"
      ],
      "text/plain": [
       "                 balance                        email\n",
       "alan9443           56.09             pope@hotmail.com\n",
       "andrew.alvarez     81.66         aalvarez@hotmail.com\n",
       "boyer7005          91.41          boyer8636@gmail.com\n",
       "brandon.gilbert    10.17  brandon.gilbert@hotmail.com\n",
       "brooke2027          7.22         brooke6938@gmail.com"
      ]
     },
     "execution_count": 37,
     "metadata": {},
     "output_type": "execute_result"
    }
   ],
   "source": [
    "# Selects rows where there are no referrals\n",
    "# AND select only the following ordered columns\n",
    "users.loc[no_referrals_index, ['balance', 'email']].head()\n",
    "# Remember that a ['col_name', 'col_name'] will order my values first by\n",
    "#    the first column, then by the second. Not sure why sort_values wasn't used"
   ]
  },
  {
   "cell_type": "code",
   "execution_count": 38,
   "metadata": {},
   "outputs": [
    {
     "data": {
      "text/html": [
       "<div>\n",
       "<style scoped>\n",
       "    .dataframe tbody tr th:only-of-type {\n",
       "        vertical-align: middle;\n",
       "    }\n",
       "\n",
       "    .dataframe tbody tr th {\n",
       "        vertical-align: top;\n",
       "    }\n",
       "\n",
       "    .dataframe thead th {\n",
       "        text-align: right;\n",
       "    }\n",
       "</style>\n",
       "<table border=\"1\" class=\"dataframe\">\n",
       "  <thead>\n",
       "    <tr style=\"text-align: right;\">\n",
       "      <th></th>\n",
       "      <th>first_name</th>\n",
       "      <th>last_name</th>\n",
       "      <th>email</th>\n",
       "      <th>email_verified</th>\n",
       "      <th>signup_date</th>\n",
       "      <th>referral_count</th>\n",
       "      <th>balance</th>\n",
       "    </tr>\n",
       "  </thead>\n",
       "  <tbody>\n",
       "    <tr>\n",
       "      <th>alan9443</th>\n",
       "      <td>Alan</td>\n",
       "      <td>Pope</td>\n",
       "      <td>pope@hotmail.com</td>\n",
       "      <td>True</td>\n",
       "      <td>4/17/18</td>\n",
       "      <td>0</td>\n",
       "      <td>56.09</td>\n",
       "    </tr>\n",
       "    <tr>\n",
       "      <th>andrew.alvarez</th>\n",
       "      <td>Andrew</td>\n",
       "      <td>Alvarez</td>\n",
       "      <td>aalvarez@hotmail.com</td>\n",
       "      <td>False</td>\n",
       "      <td>8/1/18</td>\n",
       "      <td>0</td>\n",
       "      <td>81.66</td>\n",
       "    </tr>\n",
       "    <tr>\n",
       "      <th>boyer7005</th>\n",
       "      <td>Sara</td>\n",
       "      <td>Boyer</td>\n",
       "      <td>boyer8636@gmail.com</td>\n",
       "      <td>True</td>\n",
       "      <td>7/31/18</td>\n",
       "      <td>0</td>\n",
       "      <td>91.41</td>\n",
       "    </tr>\n",
       "    <tr>\n",
       "      <th>brandon.gilbert</th>\n",
       "      <td>Brandon</td>\n",
       "      <td>Gilbert</td>\n",
       "      <td>brandon.gilbert@hotmail.com</td>\n",
       "      <td>True</td>\n",
       "      <td>4/28/18</td>\n",
       "      <td>0</td>\n",
       "      <td>10.17</td>\n",
       "    </tr>\n",
       "    <tr>\n",
       "      <th>brooke2027</th>\n",
       "      <td>Brooke</td>\n",
       "      <td>NaN</td>\n",
       "      <td>brooke6938@gmail.com</td>\n",
       "      <td>False</td>\n",
       "      <td>5/23/18</td>\n",
       "      <td>0</td>\n",
       "      <td>7.22</td>\n",
       "    </tr>\n",
       "  </tbody>\n",
       "</table>\n",
       "</div>"
      ],
      "text/plain": [
       "                first_name last_name                        email  \\\n",
       "alan9443              Alan      Pope             pope@hotmail.com   \n",
       "andrew.alvarez      Andrew   Alvarez         aalvarez@hotmail.com   \n",
       "boyer7005             Sara     Boyer          boyer8636@gmail.com   \n",
       "brandon.gilbert    Brandon   Gilbert  brandon.gilbert@hotmail.com   \n",
       "brooke2027          Brooke       NaN         brooke6938@gmail.com   \n",
       "\n",
       "                 email_verified signup_date  referral_count  balance  \n",
       "alan9443                   True     4/17/18               0    56.09  \n",
       "andrew.alvarez            False      8/1/18               0    81.66  \n",
       "boyer7005                  True     7/31/18               0    91.41  \n",
       "brandon.gilbert            True     4/28/18               0    10.17  \n",
       "brooke2027                False     5/23/18               0     7.22  "
      ]
     },
     "execution_count": 38,
     "metadata": {},
     "output_type": "execute_result"
    }
   ],
   "source": [
    "# It's also possible to do the comparison inline, without storing the index\n",
    "#    in a variable\n",
    "users[users['referral_count'] == 0].head()"
   ]
  },
  {
   "cell_type": "code",
   "execution_count": 39,
   "metadata": {},
   "outputs": [
    {
     "data": {
      "text/html": [
       "<div>\n",
       "<style scoped>\n",
       "    .dataframe tbody tr th:only-of-type {\n",
       "        vertical-align: middle;\n",
       "    }\n",
       "\n",
       "    .dataframe tbody tr th {\n",
       "        vertical-align: top;\n",
       "    }\n",
       "\n",
       "    .dataframe thead th {\n",
       "        text-align: right;\n",
       "    }\n",
       "</style>\n",
       "<table border=\"1\" class=\"dataframe\">\n",
       "  <thead>\n",
       "    <tr style=\"text-align: right;\">\n",
       "      <th></th>\n",
       "      <th>first_name</th>\n",
       "      <th>last_name</th>\n",
       "      <th>email</th>\n",
       "      <th>email_verified</th>\n",
       "      <th>signup_date</th>\n",
       "      <th>referral_count</th>\n",
       "      <th>balance</th>\n",
       "    </tr>\n",
       "  </thead>\n",
       "  <tbody>\n",
       "    <tr>\n",
       "      <th>alan9443</th>\n",
       "      <td>Alan</td>\n",
       "      <td>Pope</td>\n",
       "      <td>pope@hotmail.com</td>\n",
       "      <td>True</td>\n",
       "      <td>4/17/18</td>\n",
       "      <td>0</td>\n",
       "      <td>56.09</td>\n",
       "    </tr>\n",
       "    <tr>\n",
       "      <th>boyer7005</th>\n",
       "      <td>Sara</td>\n",
       "      <td>Boyer</td>\n",
       "      <td>boyer8636@gmail.com</td>\n",
       "      <td>True</td>\n",
       "      <td>7/31/18</td>\n",
       "      <td>0</td>\n",
       "      <td>91.41</td>\n",
       "    </tr>\n",
       "    <tr>\n",
       "      <th>brandon.gilbert</th>\n",
       "      <td>Brandon</td>\n",
       "      <td>Gilbert</td>\n",
       "      <td>brandon.gilbert@hotmail.com</td>\n",
       "      <td>True</td>\n",
       "      <td>4/28/18</td>\n",
       "      <td>0</td>\n",
       "      <td>10.17</td>\n",
       "    </tr>\n",
       "    <tr>\n",
       "      <th>bryant</th>\n",
       "      <td>Darlene</td>\n",
       "      <td>Bryant</td>\n",
       "      <td>dbryant@yahoo.com</td>\n",
       "      <td>True</td>\n",
       "      <td>7/19/18</td>\n",
       "      <td>0</td>\n",
       "      <td>36.91</td>\n",
       "    </tr>\n",
       "    <tr>\n",
       "      <th>calvin.perez</th>\n",
       "      <td>Calvin</td>\n",
       "      <td>Perez</td>\n",
       "      <td>cperez@gmail.com</td>\n",
       "      <td>True</td>\n",
       "      <td>2/17/18</td>\n",
       "      <td>0</td>\n",
       "      <td>13.01</td>\n",
       "    </tr>\n",
       "  </tbody>\n",
       "</table>\n",
       "</div>"
      ],
      "text/plain": [
       "                first_name last_name                        email  \\\n",
       "alan9443              Alan      Pope             pope@hotmail.com   \n",
       "boyer7005             Sara     Boyer          boyer8636@gmail.com   \n",
       "brandon.gilbert    Brandon   Gilbert  brandon.gilbert@hotmail.com   \n",
       "bryant             Darlene    Bryant            dbryant@yahoo.com   \n",
       "calvin.perez        Calvin     Perez             cperez@gmail.com   \n",
       "\n",
       "                 email_verified signup_date  referral_count  balance  \n",
       "alan9443                   True     4/17/18               0    56.09  \n",
       "boyer7005                  True     7/31/18               0    91.41  \n",
       "brandon.gilbert            True     4/28/18               0    10.17  \n",
       "bryant                     True     7/19/18               0    36.91  \n",
       "calvin.perez               True     2/17/18               0    13.01  "
      ]
     },
     "execution_count": 39,
     "metadata": {},
     "output_type": "execute_result"
    }
   ],
   "source": [
    "# I can also use bitwise operators to compare a boolean Series to another\n",
    "#     boolean series.\n",
    "# Select all users where they haven't made a referral AND their email\n",
    "#     has been verified.\n",
    "users[(users['referral_count'] == 0) & (users['email_verified'] == True)].head()"
   ]
  },
  {
   "cell_type": "code",
   "execution_count": 40,
   "metadata": {},
   "outputs": [
    {
     "data": {
      "text/html": [
       "<div>\n",
       "<style scoped>\n",
       "    .dataframe tbody tr th:only-of-type {\n",
       "        vertical-align: middle;\n",
       "    }\n",
       "\n",
       "    .dataframe tbody tr th {\n",
       "        vertical-align: top;\n",
       "    }\n",
       "\n",
       "    .dataframe thead th {\n",
       "        text-align: right;\n",
       "    }\n",
       "</style>\n",
       "<table border=\"1\" class=\"dataframe\">\n",
       "  <thead>\n",
       "    <tr style=\"text-align: right;\">\n",
       "      <th></th>\n",
       "      <th>first_name</th>\n",
       "      <th>last_name</th>\n",
       "      <th>email</th>\n",
       "      <th>email_verified</th>\n",
       "      <th>signup_date</th>\n",
       "      <th>referral_count</th>\n",
       "      <th>balance</th>\n",
       "    </tr>\n",
       "  </thead>\n",
       "  <tbody>\n",
       "    <tr>\n",
       "      <th>aaron</th>\n",
       "      <td>Aaron</td>\n",
       "      <td>Davis</td>\n",
       "      <td>aaron6348@gmail.com</td>\n",
       "      <td>True</td>\n",
       "      <td>8/31/18</td>\n",
       "      <td>6</td>\n",
       "      <td>18.14</td>\n",
       "    </tr>\n",
       "    <tr>\n",
       "      <th>adrian.blair</th>\n",
       "      <td>Adrian</td>\n",
       "      <td>Blair</td>\n",
       "      <td>adrian9335@gmail.com</td>\n",
       "      <td>True</td>\n",
       "      <td>6/16/18</td>\n",
       "      <td>7</td>\n",
       "      <td>25.85</td>\n",
       "    </tr>\n",
       "    <tr>\n",
       "      <th>alvarado</th>\n",
       "      <td>Denise</td>\n",
       "      <td>Alvarado</td>\n",
       "      <td>alvarado@hotmail.com</td>\n",
       "      <td>True</td>\n",
       "      <td>9/7/18</td>\n",
       "      <td>6</td>\n",
       "      <td>26.72</td>\n",
       "    </tr>\n",
       "    <tr>\n",
       "      <th>alvarez</th>\n",
       "      <td>John</td>\n",
       "      <td>Alvarez</td>\n",
       "      <td>john4346@hotmail.com</td>\n",
       "      <td>True</td>\n",
       "      <td>9/18/18</td>\n",
       "      <td>6</td>\n",
       "      <td>49.62</td>\n",
       "    </tr>\n",
       "    <tr>\n",
       "      <th>angela7209</th>\n",
       "      <td>Angela</td>\n",
       "      <td>Collins</td>\n",
       "      <td>collins5797@yahoo.com</td>\n",
       "      <td>True</td>\n",
       "      <td>5/5/18</td>\n",
       "      <td>7</td>\n",
       "      <td>29.52</td>\n",
       "    </tr>\n",
       "  </tbody>\n",
       "</table>\n",
       "</div>"
      ],
      "text/plain": [
       "             first_name last_name                  email  email_verified  \\\n",
       "aaron             Aaron     Davis    aaron6348@gmail.com            True   \n",
       "adrian.blair     Adrian     Blair   adrian9335@gmail.com            True   \n",
       "alvarado         Denise  Alvarado   alvarado@hotmail.com            True   \n",
       "alvarez            John   Alvarez   john4346@hotmail.com            True   \n",
       "angela7209       Angela   Collins  collins5797@yahoo.com            True   \n",
       "\n",
       "             signup_date  referral_count  balance  \n",
       "aaron            8/31/18               6    18.14  \n",
       "adrian.blair     6/16/18               7    25.85  \n",
       "alvarado          9/7/18               6    26.72  \n",
       "alvarez          9/18/18               6    49.62  \n",
       "angela7209        5/5/18               7    29.52  "
      ]
     },
     "execution_count": 40,
     "metadata": {},
     "output_type": "execute_result"
    }
   ],
   "source": [
    "users[(users['referral_count'] > 5) & (users['email_verified'] == True)].head()"
   ]
  }
 ],
 "metadata": {
  "kernelspec": {
   "display_name": "default",
   "language": "python",
   "name": "default"
  },
  "language_info": {
   "codemirror_mode": {
    "name": "ipython",
    "version": 3
   },
   "file_extension": ".py",
   "mimetype": "text/x-python",
   "name": "python",
   "nbconvert_exporter": "python",
   "pygments_lexer": "ipython3",
   "version": "3.6.8"
  }
 },
 "nbformat": 4,
 "nbformat_minor": 2
}
