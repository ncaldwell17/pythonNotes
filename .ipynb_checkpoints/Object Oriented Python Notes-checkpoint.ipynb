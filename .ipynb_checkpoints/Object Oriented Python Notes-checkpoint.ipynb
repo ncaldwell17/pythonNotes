{
 "cells": [
  {
   "cell_type": "markdown",
   "metadata": {},
   "source": [
    "# Object Oriented Python\n",
    "\n",
    "Notes from Treehouse's OOP [course](https://teamtreehouse.com/library/what-are-objects-and-classes) and my own experimentation."
   ]
  },
  {
   "cell_type": "markdown",
   "metadata": {},
   "source": [
    "## What are Objects and Classes?\n",
    "\n",
    "The `class` keyword lets me define a class, and I use it the same way as the `def` keyword for making functions. Class definitions are blocks like function definitions."
   ]
  },
  {
   "cell_type": "code",
   "execution_count": 5,
   "metadata": {},
   "outputs": [],
   "source": [
    "class NewClass:\n",
    "    name_attribute = \"Noah\""
   ]
  },
  {
   "cell_type": "markdown",
   "metadata": {},
   "source": [
    "Inside of the class, there are several things. The first: __attributes__, are variables associated with that class. The second, __methods__, are functions that are defined and associated with the class. "
   ]
  },
  {
   "cell_type": "code",
   "execution_count": 8,
   "metadata": {},
   "outputs": [],
   "source": [
    "class Person:\n",
    "    name = \"Noah\"\n",
    "    \n",
    "    def name_method(self):\n",
    "        return self.name"
   ]
  },
  {
   "cell_type": "markdown",
   "metadata": {},
   "source": [
    "Whenever I call a class, it creates an __instance__ of that class. Each instance has full access to all the attributes and methods of that class."
   ]
  },
  {
   "cell_type": "code",
   "execution_count": 9,
   "metadata": {},
   "outputs": [
    {
     "data": {
      "text/plain": [
       "'Noah'"
      ]
     },
     "execution_count": 9,
     "metadata": {},
     "output_type": "execute_result"
    }
   ],
   "source": [
    "new_person = Person()\n",
    "new_person.name_method()"
   ]
  },
  {
   "cell_type": "markdown",
   "metadata": {},
   "source": [
    "### Exercise One - Creating a Class\n",
    "\n",
    "In this exercise, I'm creating a character in a video game. Below, I've designed an object - a Wizard - and I've created an instance of the object, me - where I've told the program that I'm a wizard.<br>\n",
    "\n",
    "The `self` variable is complicated and often trips me up. Pay attention to where and why it's used. "
   ]
  },
  {
   "cell_type": "code",
   "execution_count": 28,
   "metadata": {},
   "outputs": [
    {
     "data": {
      "text/plain": [
       "True"
      ]
     },
     "execution_count": 28,
     "metadata": {},
     "output_type": "execute_result"
    }
   ],
   "source": [
    "import random\n",
    "class Wizard:\n",
    "    smart = True\n",
    "    \n",
    "    def castSpell(self):\n",
    "        if self.smart:\n",
    "            return bool(random.randint(0, 1))\n",
    "        return False\n",
    "\n",
    "noah = Wizard()\n",
    "noah.castSpell()"
   ]
  },
  {
   "cell_type": "code",
   "execution_count": 56,
   "metadata": {},
   "outputs": [
    {
     "data": {
      "text/plain": [
       "\"You're doing great today Noah\""
      ]
     },
     "execution_count": 56,
     "metadata": {},
     "output_type": "execute_result"
    }
   ],
   "source": [
    "class Student:\n",
    "    name = \"Noah\"\n",
    "    \n",
    "    def praise(self):\n",
    "        return(\"You're doing great today {}\".format(self.name))\n",
    "\n",
    "Noah = Student()\n",
    "Noah.praise()"
   ]
  },
  {
   "cell_type": "code",
   "execution_count": 84,
   "metadata": {},
   "outputs": [
    {
     "data": {
      "text/plain": [
       "'You inspire me, Noah'"
      ]
     },
     "execution_count": 84,
     "metadata": {},
     "output_type": "execute_result"
    }
   ],
   "source": [
    "class Student:\n",
    "    name = \"Noah\"\n",
    "    \n",
    "    def praise(self):\n",
    "        return \"You inspire me, {}\".format(self.name)\n",
    "    \n",
    "    def reassurance(self):\n",
    "        return \"Chin up, {}. You'll get it next time!\".format(self.name)\n",
    "    \n",
    "    def feedback(self, grade):\n",
    "        if (grade >= 50):\n",
    "            return self.praise()\n",
    "        if (grade <= 50):\n",
    "            return self.reassurance()\n",
    "\n",
    "Noah = Student()\n",
    "Noah.feedback(52)"
   ]
  },
  {
   "cell_type": "markdown",
   "metadata": {},
   "source": [
    "#### Method Arguments\n",
    "\n",
    "When you create a new instance of a class, Python looks for an `__init__` initialization function. This is used by `def __init__(self, arguments)` <br>\n",
    "\n",
    "Now, everytime that I create a new instance of an object, I'll need to pass in the arguments that I specified. See the example below. I left an error in my first try."
   ]
  },
  {
   "cell_type": "code",
   "execution_count": 85,
   "metadata": {},
   "outputs": [
    {
     "ename": "TypeError",
     "evalue": "__init__() missing 1 required positional argument: 'name'",
     "output_type": "error",
     "traceback": [
      "\u001b[0;31m---------------------------------------------------------------------------\u001b[0m",
      "\u001b[0;31mTypeError\u001b[0m                                 Traceback (most recent call last)",
      "\u001b[0;32m<ipython-input-85-a8704efbf2c6>\u001b[0m in \u001b[0;36m<module>\u001b[0;34m()\u001b[0m\n\u001b[1;32m     11\u001b[0m         \u001b[0;32mreturn\u001b[0m \u001b[0;32mFalse\u001b[0m\u001b[0;34m\u001b[0m\u001b[0;34m\u001b[0m\u001b[0m\n\u001b[1;32m     12\u001b[0m \u001b[0;34m\u001b[0m\u001b[0m\n\u001b[0;32m---> 13\u001b[0;31m \u001b[0mnoah\u001b[0m \u001b[0;34m=\u001b[0m \u001b[0mWizard\u001b[0m\u001b[0;34m(\u001b[0m\u001b[0;34m)\u001b[0m\u001b[0;34m\u001b[0m\u001b[0;34m\u001b[0m\u001b[0m\n\u001b[0m",
      "\u001b[0;31mTypeError\u001b[0m: __init__() missing 1 required positional argument: 'name'"
     ]
    }
   ],
   "source": [
    "class Wizard:\n",
    "    smart = True\n",
    "    \n",
    "    def __init__(self, name, smart=True, **kwargs):\n",
    "        self.name = name\n",
    "        self.smart = smart\n",
    "    \n",
    "    def castSpell(self):\n",
    "        if self.smart:\n",
    "            return bool(random.randint(0, 1))\n",
    "        return False\n",
    "\n",
    "noah = Wizard()"
   ]
  },
  {
   "cell_type": "code",
   "execution_count": 88,
   "metadata": {},
   "outputs": [
    {
     "data": {
      "text/plain": [
       "'Noah'"
      ]
     },
     "execution_count": 88,
     "metadata": {},
     "output_type": "execute_result"
    }
   ],
   "source": [
    "class Wizard:\n",
    "    smart = True\n",
    "    \n",
    "    def __init__(self, name, smart=True, **kwargs):\n",
    "        self.name = name\n",
    "        self.smart = smart\n",
    "        \n",
    "        for key, value in kwargs.items():\n",
    "            setattr(self, key, value)\n",
    "    \n",
    "    def castSpell(self):\n",
    "        if self.smart:\n",
    "            return bool(random.randint(0, 1))\n",
    "        return False\n",
    "\n",
    "noah = Wizard(\"Noah\", False)\n",
    "noah.name"
   ]
  },
  {
   "cell_type": "markdown",
   "metadata": {},
   "source": [
    "I can add different information beyond the hard-coded information that I've noted in the `__init__` function if I've included `**kwargs` as the final argument to pass into the `__init__` function."
   ]
  },
  {
   "cell_type": "markdown",
   "metadata": {},
   "source": [
    "## Object Parents\n",
    "\n",
    "Child classes - or subclass, get all of the attribute and methods of their parents and grandparents and so on. Because of MRO ('method resolution order'), things might get complicated. "
   ]
  },
  {
   "cell_type": "markdown",
   "metadata": {},
   "source": [
    "### Exercise Two - Complex Relationships\n",
    "\n",
    "In this exercise, I realized that my class wizard, above, isn't the only character class I want in my game. Therefore, I want to create a larger class, Character, with attributes and methods that Wizard, and later character classes I create can inherit.<br>\n",
    "\n",
    "Inheritance __isn't automatic__. Look at the example below - my new class Character goes in as the argument for my class Wizard (before this was left empty). As long as there aren't name collisions, everything's ok!"
   ]
  },
  {
   "cell_type": "code",
   "execution_count": 92,
   "metadata": {},
   "outputs": [],
   "source": [
    "class Character():\n",
    "    def __init__(self, name, **kwargs):\n",
    "        self.name = name\n",
    "        \n",
    "        for key, value in kwargs.items():\n",
    "            setattr(self, key, value)\n",
    "\n",
    "class Thief(Character):\n",
    "    sneaky = True\n",
    "    \n",
    "    def __init__(self, name, sneaky=True, **kwargs):\n",
    "        super().__init__(name, **kwargs)\n",
    "        self.sneaky = sneaky\n",
    "    \n",
    "    def pickpocket(self):\n",
    "        return self.sneaky and bool(random.randint(0, 1))\n",
    "\n",
    "class Wizard(Character):\n",
    "    smart = True\n",
    "    \n",
    "    def castSpell(self):\n",
    "        if self.smart:\n",
    "            return bool(random.randint(0, 1))\n",
    "        return False\n",
    "        \n",
    "    "
   ]
  },
  {
   "cell_type": "markdown",
   "metadata": {},
   "source": [
    "#### Using the Superlative Function \n",
    "\n",
    "Lets me call a bit of code from the parent class inside of my own class. This is helpful when I need to override a method from the superclass, defining my own version, and keeping the effectss of the parent class's version of the code. <br>\n",
    "\n",
    "The `super()` is called by linking it before the parent function I want to override with a dot connector.  "
   ]
  },
  {
   "cell_type": "markdown",
   "metadata": {},
   "source": [
    "#### Multiple Superclasses\n",
    "\n",
    "Refactoring is a common programming concept for rearranging code into a more logical state by renaming code, deleting code where it's unnecessary, and organizing it. "
   ]
  },
  {
   "cell_type": "code",
   "execution_count": null,
   "metadata": {},
   "outputs": [],
   "source": []
  }
 ],
 "metadata": {
  "kernelspec": {
   "display_name": "Python 3",
   "language": "python",
   "name": "python3"
  },
  "language_info": {
   "codemirror_mode": {
    "name": "ipython",
    "version": 3
   },
   "file_extension": ".py",
   "mimetype": "text/x-python",
   "name": "python",
   "nbconvert_exporter": "python",
   "pygments_lexer": "ipython3",
   "version": "3.6.8"
  }
 },
 "nbformat": 4,
 "nbformat_minor": 2
}
